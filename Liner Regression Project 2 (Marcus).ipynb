{
 "cells": [
  {
   "cell_type": "code",
   "execution_count": 45,
   "id": "82a003fc-4958-4180-81af-84d7b70dbf28",
   "metadata": {},
   "outputs": [],
   "source": [
    "import os\n",
    "import pandas as pd\n",
    "import numpy as np\n",
    "import holoviews as hv\n",
    "from pathlib import Path\n",
    "import hvplot.pandas\n",
    "import requests\n",
    "from sklearn.metrics import classification_report\n",
    "from sklearn.preprocessing import StandardScaler\n",
    "from pandas.tseries.offsets import DateOffset\n",
    "from pandas.tseries.offsets import DateOffset\n",
    "from sklearn.linear_model import LinearRegression\n",
    "from sklearn.model_selection import train_test_split\n",
    "%matplotlib inline"
   ]
  },
  {
   "cell_type": "code",
   "execution_count": 46,
   "id": "6944f896-720e-49b0-9196-f1441cf758d5",
   "metadata": {},
   "outputs": [
    {
     "name": "stdout",
     "output_type": "stream",
     "text": [
      "[*********************100%***********************]  1 of 1 completed\n"
     ]
    }
   ],
   "source": [
    "import yfinance as yf\n",
    "# Downloading Yahoo Finance API data\n",
    "futures_data_df = yf.download(\"SPY\", start=\"2017-01-01\", end=\"2022-12-01\",interval = \"1d\")"
   ]
  },
  {
   "cell_type": "code",
   "execution_count": 47,
   "id": "3c2dec4f-9c0e-41c0-a4f7-5034b5be7d83",
   "metadata": {},
   "outputs": [
    {
     "data": {
      "text/html": [
       "<div>\n",
       "<style scoped>\n",
       "    .dataframe tbody tr th:only-of-type {\n",
       "        vertical-align: middle;\n",
       "    }\n",
       "\n",
       "    .dataframe tbody tr th {\n",
       "        vertical-align: top;\n",
       "    }\n",
       "\n",
       "    .dataframe thead th {\n",
       "        text-align: right;\n",
       "    }\n",
       "</style>\n",
       "<table border=\"1\" class=\"dataframe\">\n",
       "  <thead>\n",
       "    <tr style=\"text-align: right;\">\n",
       "      <th></th>\n",
       "      <th>Open</th>\n",
       "      <th>High</th>\n",
       "      <th>Low</th>\n",
       "      <th>Close</th>\n",
       "      <th>Adj Close</th>\n",
       "      <th>Volume</th>\n",
       "    </tr>\n",
       "    <tr>\n",
       "      <th>Date</th>\n",
       "      <th></th>\n",
       "      <th></th>\n",
       "      <th></th>\n",
       "      <th></th>\n",
       "      <th></th>\n",
       "      <th></th>\n",
       "    </tr>\n",
       "  </thead>\n",
       "  <tbody>\n",
       "    <tr>\n",
       "      <th>2017-01-03 00:00:00-05:00</th>\n",
       "      <td>225.039993</td>\n",
       "      <td>225.830002</td>\n",
       "      <td>223.880005</td>\n",
       "      <td>225.240005</td>\n",
       "      <td>203.788040</td>\n",
       "      <td>91366500</td>\n",
       "    </tr>\n",
       "    <tr>\n",
       "      <th>2017-01-04 00:00:00-05:00</th>\n",
       "      <td>225.619995</td>\n",
       "      <td>226.750000</td>\n",
       "      <td>225.610001</td>\n",
       "      <td>226.580002</td>\n",
       "      <td>205.000412</td>\n",
       "      <td>78744400</td>\n",
       "    </tr>\n",
       "    <tr>\n",
       "      <th>2017-01-05 00:00:00-05:00</th>\n",
       "      <td>226.270004</td>\n",
       "      <td>226.580002</td>\n",
       "      <td>225.479996</td>\n",
       "      <td>226.399994</td>\n",
       "      <td>204.837585</td>\n",
       "      <td>78379000</td>\n",
       "    </tr>\n",
       "    <tr>\n",
       "      <th>2017-01-06 00:00:00-05:00</th>\n",
       "      <td>226.529999</td>\n",
       "      <td>227.750000</td>\n",
       "      <td>225.899994</td>\n",
       "      <td>227.210007</td>\n",
       "      <td>205.570435</td>\n",
       "      <td>71559900</td>\n",
       "    </tr>\n",
       "    <tr>\n",
       "      <th>2017-01-09 00:00:00-05:00</th>\n",
       "      <td>226.910004</td>\n",
       "      <td>227.070007</td>\n",
       "      <td>226.419998</td>\n",
       "      <td>226.460007</td>\n",
       "      <td>204.891861</td>\n",
       "      <td>46939700</td>\n",
       "    </tr>\n",
       "  </tbody>\n",
       "</table>\n",
       "</div>"
      ],
      "text/plain": [
       "                                 Open        High         Low       Close  \\\n",
       "Date                                                                        \n",
       "2017-01-03 00:00:00-05:00  225.039993  225.830002  223.880005  225.240005   \n",
       "2017-01-04 00:00:00-05:00  225.619995  226.750000  225.610001  226.580002   \n",
       "2017-01-05 00:00:00-05:00  226.270004  226.580002  225.479996  226.399994   \n",
       "2017-01-06 00:00:00-05:00  226.529999  227.750000  225.899994  227.210007   \n",
       "2017-01-09 00:00:00-05:00  226.910004  227.070007  226.419998  226.460007   \n",
       "\n",
       "                            Adj Close    Volume  \n",
       "Date                                             \n",
       "2017-01-03 00:00:00-05:00  203.788040  91366500  \n",
       "2017-01-04 00:00:00-05:00  205.000412  78744400  \n",
       "2017-01-05 00:00:00-05:00  204.837585  78379000  \n",
       "2017-01-06 00:00:00-05:00  205.570435  71559900  \n",
       "2017-01-09 00:00:00-05:00  204.891861  46939700  "
      ]
     },
     "metadata": {},
     "output_type": "display_data"
    },
    {
     "data": {
      "text/html": [
       "<div>\n",
       "<style scoped>\n",
       "    .dataframe tbody tr th:only-of-type {\n",
       "        vertical-align: middle;\n",
       "    }\n",
       "\n",
       "    .dataframe tbody tr th {\n",
       "        vertical-align: top;\n",
       "    }\n",
       "\n",
       "    .dataframe thead th {\n",
       "        text-align: right;\n",
       "    }\n",
       "</style>\n",
       "<table border=\"1\" class=\"dataframe\">\n",
       "  <thead>\n",
       "    <tr style=\"text-align: right;\">\n",
       "      <th></th>\n",
       "      <th>Open</th>\n",
       "      <th>High</th>\n",
       "      <th>Low</th>\n",
       "      <th>Close</th>\n",
       "      <th>Adj Close</th>\n",
       "      <th>Volume</th>\n",
       "    </tr>\n",
       "    <tr>\n",
       "      <th>Date</th>\n",
       "      <th></th>\n",
       "      <th></th>\n",
       "      <th></th>\n",
       "      <th></th>\n",
       "      <th></th>\n",
       "      <th></th>\n",
       "    </tr>\n",
       "  </thead>\n",
       "  <tbody>\n",
       "    <tr>\n",
       "      <th>2022-10-20 00:00:00-04:00</th>\n",
       "      <td>368.029999</td>\n",
       "      <td>372.670013</td>\n",
       "      <td>364.609985</td>\n",
       "      <td>365.410004</td>\n",
       "      <td>365.410004</td>\n",
       "      <td>88283100</td>\n",
       "    </tr>\n",
       "    <tr>\n",
       "      <th>2022-10-21 00:00:00-04:00</th>\n",
       "      <td>365.119995</td>\n",
       "      <td>374.799988</td>\n",
       "      <td>363.540009</td>\n",
       "      <td>374.290009</td>\n",
       "      <td>374.290009</td>\n",
       "      <td>130897700</td>\n",
       "    </tr>\n",
       "    <tr>\n",
       "      <th>2022-10-24 00:00:00-04:00</th>\n",
       "      <td>375.890015</td>\n",
       "      <td>380.059998</td>\n",
       "      <td>373.109985</td>\n",
       "      <td>378.869995</td>\n",
       "      <td>378.869995</td>\n",
       "      <td>85436900</td>\n",
       "    </tr>\n",
       "    <tr>\n",
       "      <th>2022-10-25 00:00:00-04:00</th>\n",
       "      <td>378.790009</td>\n",
       "      <td>385.250000</td>\n",
       "      <td>378.670013</td>\n",
       "      <td>384.920013</td>\n",
       "      <td>384.920013</td>\n",
       "      <td>78846300</td>\n",
       "    </tr>\n",
       "    <tr>\n",
       "      <th>2022-10-26 00:00:00-04:00</th>\n",
       "      <td>381.619995</td>\n",
       "      <td>387.510010</td>\n",
       "      <td>381.350006</td>\n",
       "      <td>382.019989</td>\n",
       "      <td>382.019989</td>\n",
       "      <td>94420763</td>\n",
       "    </tr>\n",
       "  </tbody>\n",
       "</table>\n",
       "</div>"
      ],
      "text/plain": [
       "                                 Open        High         Low       Close  \\\n",
       "Date                                                                        \n",
       "2022-10-20 00:00:00-04:00  368.029999  372.670013  364.609985  365.410004   \n",
       "2022-10-21 00:00:00-04:00  365.119995  374.799988  363.540009  374.290009   \n",
       "2022-10-24 00:00:00-04:00  375.890015  380.059998  373.109985  378.869995   \n",
       "2022-10-25 00:00:00-04:00  378.790009  385.250000  378.670013  384.920013   \n",
       "2022-10-26 00:00:00-04:00  381.619995  387.510010  381.350006  382.019989   \n",
       "\n",
       "                            Adj Close     Volume  \n",
       "Date                                              \n",
       "2022-10-20 00:00:00-04:00  365.410004   88283100  \n",
       "2022-10-21 00:00:00-04:00  374.290009  130897700  \n",
       "2022-10-24 00:00:00-04:00  378.869995   85436900  \n",
       "2022-10-25 00:00:00-04:00  384.920013   78846300  \n",
       "2022-10-26 00:00:00-04:00  382.019989   94420763  "
      ]
     },
     "metadata": {},
     "output_type": "display_data"
    }
   ],
   "source": [
    "# sample data from download\n",
    "\n",
    "display(futures_data_df.head(5))\n",
    "display(futures_data_df.tail(5))"
   ]
  },
  {
   "cell_type": "code",
   "execution_count": 48,
   "id": "ce464e21-e1cb-44f8-acfa-30ccd886cd0f",
   "metadata": {},
   "outputs": [
    {
     "data": {
      "text/html": [
       "<div>\n",
       "<style scoped>\n",
       "    .dataframe tbody tr th:only-of-type {\n",
       "        vertical-align: middle;\n",
       "    }\n",
       "\n",
       "    .dataframe tbody tr th {\n",
       "        vertical-align: top;\n",
       "    }\n",
       "\n",
       "    .dataframe thead th {\n",
       "        text-align: right;\n",
       "    }\n",
       "</style>\n",
       "<table border=\"1\" class=\"dataframe\">\n",
       "  <thead>\n",
       "    <tr style=\"text-align: right;\">\n",
       "      <th></th>\n",
       "      <th>Open</th>\n",
       "      <th>High</th>\n",
       "      <th>Low</th>\n",
       "      <th>Close</th>\n",
       "      <th>Adj Close</th>\n",
       "      <th>Volume</th>\n",
       "    </tr>\n",
       "    <tr>\n",
       "      <th>Date</th>\n",
       "      <th></th>\n",
       "      <th></th>\n",
       "      <th></th>\n",
       "      <th></th>\n",
       "      <th></th>\n",
       "      <th></th>\n",
       "    </tr>\n",
       "  </thead>\n",
       "  <tbody>\n",
       "    <tr>\n",
       "      <th>2017-01-03 00:00:00-05:00</th>\n",
       "      <td>225.039993</td>\n",
       "      <td>225.830002</td>\n",
       "      <td>223.880005</td>\n",
       "      <td>225.240005</td>\n",
       "      <td>203.788040</td>\n",
       "      <td>91366500</td>\n",
       "    </tr>\n",
       "    <tr>\n",
       "      <th>2017-01-04 00:00:00-05:00</th>\n",
       "      <td>225.619995</td>\n",
       "      <td>226.750000</td>\n",
       "      <td>225.610001</td>\n",
       "      <td>226.580002</td>\n",
       "      <td>205.000412</td>\n",
       "      <td>78744400</td>\n",
       "    </tr>\n",
       "    <tr>\n",
       "      <th>2017-01-05 00:00:00-05:00</th>\n",
       "      <td>226.270004</td>\n",
       "      <td>226.580002</td>\n",
       "      <td>225.479996</td>\n",
       "      <td>226.399994</td>\n",
       "      <td>204.837585</td>\n",
       "      <td>78379000</td>\n",
       "    </tr>\n",
       "    <tr>\n",
       "      <th>2017-01-06 00:00:00-05:00</th>\n",
       "      <td>226.529999</td>\n",
       "      <td>227.750000</td>\n",
       "      <td>225.899994</td>\n",
       "      <td>227.210007</td>\n",
       "      <td>205.570435</td>\n",
       "      <td>71559900</td>\n",
       "    </tr>\n",
       "    <tr>\n",
       "      <th>2017-01-09 00:00:00-05:00</th>\n",
       "      <td>226.910004</td>\n",
       "      <td>227.070007</td>\n",
       "      <td>226.419998</td>\n",
       "      <td>226.460007</td>\n",
       "      <td>204.891861</td>\n",
       "      <td>46939700</td>\n",
       "    </tr>\n",
       "  </tbody>\n",
       "</table>\n",
       "</div>"
      ],
      "text/plain": [
       "                                 Open        High         Low       Close  \\\n",
       "Date                                                                        \n",
       "2017-01-03 00:00:00-05:00  225.039993  225.830002  223.880005  225.240005   \n",
       "2017-01-04 00:00:00-05:00  225.619995  226.750000  225.610001  226.580002   \n",
       "2017-01-05 00:00:00-05:00  226.270004  226.580002  225.479996  226.399994   \n",
       "2017-01-06 00:00:00-05:00  226.529999  227.750000  225.899994  227.210007   \n",
       "2017-01-09 00:00:00-05:00  226.910004  227.070007  226.419998  226.460007   \n",
       "\n",
       "                            Adj Close    Volume  \n",
       "Date                                             \n",
       "2017-01-03 00:00:00-05:00  203.788040  91366500  \n",
       "2017-01-04 00:00:00-05:00  205.000412  78744400  \n",
       "2017-01-05 00:00:00-05:00  204.837585  78379000  \n",
       "2017-01-06 00:00:00-05:00  205.570435  71559900  \n",
       "2017-01-09 00:00:00-05:00  204.891861  46939700  "
      ]
     },
     "metadata": {},
     "output_type": "display_data"
    },
    {
     "data": {
      "text/html": [
       "<div>\n",
       "<style scoped>\n",
       "    .dataframe tbody tr th:only-of-type {\n",
       "        vertical-align: middle;\n",
       "    }\n",
       "\n",
       "    .dataframe tbody tr th {\n",
       "        vertical-align: top;\n",
       "    }\n",
       "\n",
       "    .dataframe thead th {\n",
       "        text-align: right;\n",
       "    }\n",
       "</style>\n",
       "<table border=\"1\" class=\"dataframe\">\n",
       "  <thead>\n",
       "    <tr style=\"text-align: right;\">\n",
       "      <th></th>\n",
       "      <th>Open</th>\n",
       "      <th>High</th>\n",
       "      <th>Low</th>\n",
       "      <th>Close</th>\n",
       "      <th>Adj Close</th>\n",
       "      <th>Volume</th>\n",
       "    </tr>\n",
       "    <tr>\n",
       "      <th>Date</th>\n",
       "      <th></th>\n",
       "      <th></th>\n",
       "      <th></th>\n",
       "      <th></th>\n",
       "      <th></th>\n",
       "      <th></th>\n",
       "    </tr>\n",
       "  </thead>\n",
       "  <tbody>\n",
       "    <tr>\n",
       "      <th>2022-10-20 00:00:00-04:00</th>\n",
       "      <td>368.029999</td>\n",
       "      <td>372.670013</td>\n",
       "      <td>364.609985</td>\n",
       "      <td>365.410004</td>\n",
       "      <td>365.410004</td>\n",
       "      <td>88283100</td>\n",
       "    </tr>\n",
       "    <tr>\n",
       "      <th>2022-10-21 00:00:00-04:00</th>\n",
       "      <td>365.119995</td>\n",
       "      <td>374.799988</td>\n",
       "      <td>363.540009</td>\n",
       "      <td>374.290009</td>\n",
       "      <td>374.290009</td>\n",
       "      <td>130897700</td>\n",
       "    </tr>\n",
       "    <tr>\n",
       "      <th>2022-10-24 00:00:00-04:00</th>\n",
       "      <td>375.890015</td>\n",
       "      <td>380.059998</td>\n",
       "      <td>373.109985</td>\n",
       "      <td>378.869995</td>\n",
       "      <td>378.869995</td>\n",
       "      <td>85436900</td>\n",
       "    </tr>\n",
       "    <tr>\n",
       "      <th>2022-10-25 00:00:00-04:00</th>\n",
       "      <td>378.790009</td>\n",
       "      <td>385.250000</td>\n",
       "      <td>378.670013</td>\n",
       "      <td>384.920013</td>\n",
       "      <td>384.920013</td>\n",
       "      <td>78846300</td>\n",
       "    </tr>\n",
       "    <tr>\n",
       "      <th>2022-10-26 00:00:00-04:00</th>\n",
       "      <td>381.619995</td>\n",
       "      <td>387.510010</td>\n",
       "      <td>381.350006</td>\n",
       "      <td>382.019989</td>\n",
       "      <td>382.019989</td>\n",
       "      <td>94420763</td>\n",
       "    </tr>\n",
       "  </tbody>\n",
       "</table>\n",
       "</div>"
      ],
      "text/plain": [
       "                                 Open        High         Low       Close  \\\n",
       "Date                                                                        \n",
       "2022-10-20 00:00:00-04:00  368.029999  372.670013  364.609985  365.410004   \n",
       "2022-10-21 00:00:00-04:00  365.119995  374.799988  363.540009  374.290009   \n",
       "2022-10-24 00:00:00-04:00  375.890015  380.059998  373.109985  378.869995   \n",
       "2022-10-25 00:00:00-04:00  378.790009  385.250000  378.670013  384.920013   \n",
       "2022-10-26 00:00:00-04:00  381.619995  387.510010  381.350006  382.019989   \n",
       "\n",
       "                            Adj Close     Volume  \n",
       "Date                                              \n",
       "2022-10-20 00:00:00-04:00  365.410004   88283100  \n",
       "2022-10-21 00:00:00-04:00  374.290009  130897700  \n",
       "2022-10-24 00:00:00-04:00  378.869995   85436900  \n",
       "2022-10-25 00:00:00-04:00  384.920013   78846300  \n",
       "2022-10-26 00:00:00-04:00  382.019989   94420763  "
      ]
     },
     "metadata": {},
     "output_type": "display_data"
    }
   ],
   "source": [
    "display(futures_data_df.head(5))\n",
    "display(futures_data_df.tail(5))"
   ]
  },
  {
   "cell_type": "code",
   "execution_count": 50,
   "id": "57b9d266-2e8f-4a9a-b8e0-1d253b2ac7fd",
   "metadata": {},
   "outputs": [
    {
     "data": {
      "text/html": [
       "<div>\n",
       "<style scoped>\n",
       "    .dataframe tbody tr th:only-of-type {\n",
       "        vertical-align: middle;\n",
       "    }\n",
       "\n",
       "    .dataframe tbody tr th {\n",
       "        vertical-align: top;\n",
       "    }\n",
       "\n",
       "    .dataframe thead th {\n",
       "        text-align: right;\n",
       "    }\n",
       "</style>\n",
       "<table border=\"1\" class=\"dataframe\">\n",
       "  <thead>\n",
       "    <tr style=\"text-align: right;\">\n",
       "      <th></th>\n",
       "      <th>index</th>\n",
       "      <th>Date</th>\n",
       "      <th>Open</th>\n",
       "      <th>High</th>\n",
       "      <th>Low</th>\n",
       "      <th>Close</th>\n",
       "      <th>Adj Close</th>\n",
       "      <th>Volume</th>\n",
       "    </tr>\n",
       "  </thead>\n",
       "  <tbody>\n",
       "    <tr>\n",
       "      <th>0</th>\n",
       "      <td>0</td>\n",
       "      <td>2017-01-03 00:00:00-05:00</td>\n",
       "      <td>225.039993</td>\n",
       "      <td>225.830002</td>\n",
       "      <td>223.880005</td>\n",
       "      <td>225.240005</td>\n",
       "      <td>203.788040</td>\n",
       "      <td>91366500</td>\n",
       "    </tr>\n",
       "    <tr>\n",
       "      <th>1</th>\n",
       "      <td>1</td>\n",
       "      <td>2017-01-04 00:00:00-05:00</td>\n",
       "      <td>225.619995</td>\n",
       "      <td>226.750000</td>\n",
       "      <td>225.610001</td>\n",
       "      <td>226.580002</td>\n",
       "      <td>205.000412</td>\n",
       "      <td>78744400</td>\n",
       "    </tr>\n",
       "    <tr>\n",
       "      <th>2</th>\n",
       "      <td>2</td>\n",
       "      <td>2017-01-05 00:00:00-05:00</td>\n",
       "      <td>226.270004</td>\n",
       "      <td>226.580002</td>\n",
       "      <td>225.479996</td>\n",
       "      <td>226.399994</td>\n",
       "      <td>204.837585</td>\n",
       "      <td>78379000</td>\n",
       "    </tr>\n",
       "    <tr>\n",
       "      <th>3</th>\n",
       "      <td>3</td>\n",
       "      <td>2017-01-06 00:00:00-05:00</td>\n",
       "      <td>226.529999</td>\n",
       "      <td>227.750000</td>\n",
       "      <td>225.899994</td>\n",
       "      <td>227.210007</td>\n",
       "      <td>205.570435</td>\n",
       "      <td>71559900</td>\n",
       "    </tr>\n",
       "    <tr>\n",
       "      <th>4</th>\n",
       "      <td>4</td>\n",
       "      <td>2017-01-09 00:00:00-05:00</td>\n",
       "      <td>226.910004</td>\n",
       "      <td>227.070007</td>\n",
       "      <td>226.419998</td>\n",
       "      <td>226.460007</td>\n",
       "      <td>204.891861</td>\n",
       "      <td>46939700</td>\n",
       "    </tr>\n",
       "  </tbody>\n",
       "</table>\n",
       "</div>"
      ],
      "text/plain": [
       "   index                      Date        Open        High         Low  \\\n",
       "0      0 2017-01-03 00:00:00-05:00  225.039993  225.830002  223.880005   \n",
       "1      1 2017-01-04 00:00:00-05:00  225.619995  226.750000  225.610001   \n",
       "2      2 2017-01-05 00:00:00-05:00  226.270004  226.580002  225.479996   \n",
       "3      3 2017-01-06 00:00:00-05:00  226.529999  227.750000  225.899994   \n",
       "4      4 2017-01-09 00:00:00-05:00  226.910004  227.070007  226.419998   \n",
       "\n",
       "        Close   Adj Close    Volume  \n",
       "0  225.240005  203.788040  91366500  \n",
       "1  226.580002  205.000412  78744400  \n",
       "2  226.399994  204.837585  78379000  \n",
       "3  227.210007  205.570435  71559900  \n",
       "4  226.460007  204.891861  46939700  "
      ]
     },
     "metadata": {},
     "output_type": "display_data"
    },
    {
     "data": {
      "text/html": [
       "<div>\n",
       "<style scoped>\n",
       "    .dataframe tbody tr th:only-of-type {\n",
       "        vertical-align: middle;\n",
       "    }\n",
       "\n",
       "    .dataframe tbody tr th {\n",
       "        vertical-align: top;\n",
       "    }\n",
       "\n",
       "    .dataframe thead th {\n",
       "        text-align: right;\n",
       "    }\n",
       "</style>\n",
       "<table border=\"1\" class=\"dataframe\">\n",
       "  <thead>\n",
       "    <tr style=\"text-align: right;\">\n",
       "      <th></th>\n",
       "      <th>index</th>\n",
       "      <th>Date</th>\n",
       "      <th>Open</th>\n",
       "      <th>High</th>\n",
       "      <th>Low</th>\n",
       "      <th>Close</th>\n",
       "      <th>Adj Close</th>\n",
       "      <th>Volume</th>\n",
       "    </tr>\n",
       "  </thead>\n",
       "  <tbody>\n",
       "    <tr>\n",
       "      <th>1460</th>\n",
       "      <td>1460</td>\n",
       "      <td>2022-10-20 00:00:00-04:00</td>\n",
       "      <td>368.029999</td>\n",
       "      <td>372.670013</td>\n",
       "      <td>364.609985</td>\n",
       "      <td>365.410004</td>\n",
       "      <td>365.410004</td>\n",
       "      <td>88283100</td>\n",
       "    </tr>\n",
       "    <tr>\n",
       "      <th>1461</th>\n",
       "      <td>1461</td>\n",
       "      <td>2022-10-21 00:00:00-04:00</td>\n",
       "      <td>365.119995</td>\n",
       "      <td>374.799988</td>\n",
       "      <td>363.540009</td>\n",
       "      <td>374.290009</td>\n",
       "      <td>374.290009</td>\n",
       "      <td>130897700</td>\n",
       "    </tr>\n",
       "    <tr>\n",
       "      <th>1462</th>\n",
       "      <td>1462</td>\n",
       "      <td>2022-10-24 00:00:00-04:00</td>\n",
       "      <td>375.890015</td>\n",
       "      <td>380.059998</td>\n",
       "      <td>373.109985</td>\n",
       "      <td>378.869995</td>\n",
       "      <td>378.869995</td>\n",
       "      <td>85436900</td>\n",
       "    </tr>\n",
       "    <tr>\n",
       "      <th>1463</th>\n",
       "      <td>1463</td>\n",
       "      <td>2022-10-25 00:00:00-04:00</td>\n",
       "      <td>378.790009</td>\n",
       "      <td>385.250000</td>\n",
       "      <td>378.670013</td>\n",
       "      <td>384.920013</td>\n",
       "      <td>384.920013</td>\n",
       "      <td>78846300</td>\n",
       "    </tr>\n",
       "    <tr>\n",
       "      <th>1464</th>\n",
       "      <td>1464</td>\n",
       "      <td>2022-10-26 00:00:00-04:00</td>\n",
       "      <td>381.619995</td>\n",
       "      <td>387.510010</td>\n",
       "      <td>381.350006</td>\n",
       "      <td>382.019989</td>\n",
       "      <td>382.019989</td>\n",
       "      <td>94420763</td>\n",
       "    </tr>\n",
       "  </tbody>\n",
       "</table>\n",
       "</div>"
      ],
      "text/plain": [
       "      index                      Date        Open        High         Low  \\\n",
       "1460   1460 2022-10-20 00:00:00-04:00  368.029999  372.670013  364.609985   \n",
       "1461   1461 2022-10-21 00:00:00-04:00  365.119995  374.799988  363.540009   \n",
       "1462   1462 2022-10-24 00:00:00-04:00  375.890015  380.059998  373.109985   \n",
       "1463   1463 2022-10-25 00:00:00-04:00  378.790009  385.250000  378.670013   \n",
       "1464   1464 2022-10-26 00:00:00-04:00  381.619995  387.510010  381.350006   \n",
       "\n",
       "           Close   Adj Close     Volume  \n",
       "1460  365.410004  365.410004   88283100  \n",
       "1461  374.290009  374.290009  130897700  \n",
       "1462  378.869995  378.869995   85436900  \n",
       "1463  384.920013  384.920013   78846300  \n",
       "1464  382.019989  382.019989   94420763  "
      ]
     },
     "metadata": {},
     "output_type": "display_data"
    }
   ],
   "source": [
    "futures_data_df = futures_data_df.reset_index()\n",
    "display(futures_data_df.head())\n",
    "display(futures_data_df.tail())"
   ]
  },
  {
   "cell_type": "code",
   "execution_count": 51,
   "id": "de212d91-3f0c-484e-9e3b-a48b9757c4e9",
   "metadata": {},
   "outputs": [
    {
     "data": {
      "text/html": [
       "<div>\n",
       "<style scoped>\n",
       "    .dataframe tbody tr th:only-of-type {\n",
       "        vertical-align: middle;\n",
       "    }\n",
       "\n",
       "    .dataframe tbody tr th {\n",
       "        vertical-align: top;\n",
       "    }\n",
       "\n",
       "    .dataframe thead th {\n",
       "        text-align: right;\n",
       "    }\n",
       "</style>\n",
       "<table border=\"1\" class=\"dataframe\">\n",
       "  <thead>\n",
       "    <tr style=\"text-align: right;\">\n",
       "      <th></th>\n",
       "      <th>index</th>\n",
       "      <th>Open</th>\n",
       "      <th>High</th>\n",
       "      <th>Low</th>\n",
       "      <th>Adj Close</th>\n",
       "      <th>Volume</th>\n",
       "    </tr>\n",
       "  </thead>\n",
       "  <tbody>\n",
       "    <tr>\n",
       "      <th>0</th>\n",
       "      <td>0</td>\n",
       "      <td>225.039993</td>\n",
       "      <td>225.830002</td>\n",
       "      <td>223.880005</td>\n",
       "      <td>203.788040</td>\n",
       "      <td>91366500</td>\n",
       "    </tr>\n",
       "    <tr>\n",
       "      <th>1</th>\n",
       "      <td>1</td>\n",
       "      <td>225.619995</td>\n",
       "      <td>226.750000</td>\n",
       "      <td>225.610001</td>\n",
       "      <td>205.000412</td>\n",
       "      <td>78744400</td>\n",
       "    </tr>\n",
       "    <tr>\n",
       "      <th>2</th>\n",
       "      <td>2</td>\n",
       "      <td>226.270004</td>\n",
       "      <td>226.580002</td>\n",
       "      <td>225.479996</td>\n",
       "      <td>204.837585</td>\n",
       "      <td>78379000</td>\n",
       "    </tr>\n",
       "    <tr>\n",
       "      <th>3</th>\n",
       "      <td>3</td>\n",
       "      <td>226.529999</td>\n",
       "      <td>227.750000</td>\n",
       "      <td>225.899994</td>\n",
       "      <td>205.570435</td>\n",
       "      <td>71559900</td>\n",
       "    </tr>\n",
       "    <tr>\n",
       "      <th>4</th>\n",
       "      <td>4</td>\n",
       "      <td>226.910004</td>\n",
       "      <td>227.070007</td>\n",
       "      <td>226.419998</td>\n",
       "      <td>204.891861</td>\n",
       "      <td>46939700</td>\n",
       "    </tr>\n",
       "  </tbody>\n",
       "</table>\n",
       "</div>"
      ],
      "text/plain": [
       "   index        Open        High         Low   Adj Close    Volume\n",
       "0      0  225.039993  225.830002  223.880005  203.788040  91366500\n",
       "1      1  225.619995  226.750000  225.610001  205.000412  78744400\n",
       "2      2  226.270004  226.580002  225.479996  204.837585  78379000\n",
       "3      3  226.529999  227.750000  225.899994  205.570435  71559900\n",
       "4      4  226.910004  227.070007  226.419998  204.891861  46939700"
      ]
     },
     "execution_count": 51,
     "metadata": {},
     "output_type": "execute_result"
    }
   ],
   "source": [
    "# Assign a copy of the Close column to a features DataFrame called X\n",
    "X = futures_data_df.drop(columns=[\"Close\",\"Date\"])\n",
    "\n",
    "# Review the DataFrame\n",
    "X.head()"
   ]
  },
  {
   "cell_type": "code",
   "execution_count": 52,
   "id": "f62a0bcd-d32b-4661-a61d-266218c00ce2",
   "metadata": {},
   "outputs": [
    {
     "data": {
      "text/plain": [
       "0    225.240005\n",
       "1    226.580002\n",
       "2    226.399994\n",
       "3    227.210007\n",
       "4    226.460007\n",
       "Name: Close, dtype: float64"
      ]
     },
     "execution_count": 52,
     "metadata": {},
     "output_type": "execute_result"
    }
   ],
   "source": [
    "# Assign a copy of the Close column to a features DataFrame called Y\n",
    "y = futures_data_df['Close']\n",
    "\n",
    "# Review the DataFrame\n",
    "y.head()"
   ]
  },
  {
   "cell_type": "code",
   "execution_count": 53,
   "id": "a96f9c53-6413-41c7-8634-7e0c06aeea40",
   "metadata": {},
   "outputs": [],
   "source": [
    "X_train, X_test, y_train, y_test = train_test_split(X, \n",
    "                                                    y, \n",
    "                                                    random_state=1,)"
   ]
  },
  {
   "cell_type": "code",
   "execution_count": 54,
   "id": "1d2140c8-e456-49dd-a2e5-e04dda934156",
   "metadata": {},
   "outputs": [
    {
     "data": {
      "text/plain": [
       "243.990005    2\n",
       "293.239990    2\n",
       "433.720001    2\n",
       "266.920013    2\n",
       "292.450012    2\n",
       "             ..\n",
       "290.690002    1\n",
       "274.230011    1\n",
       "278.440002    1\n",
       "239.850006    1\n",
       "389.500000    1\n",
       "Name: Close, Length: 1075, dtype: int64"
      ]
     },
     "execution_count": 54,
     "metadata": {},
     "output_type": "execute_result"
    }
   ],
   "source": [
    "# Review the distinct values from y\n",
    "y_train.value_counts()"
   ]
  },
  {
   "cell_type": "code",
   "execution_count": 55,
   "id": "084242d2-af3c-46b6-9ce3-9d21f17ce789",
   "metadata": {},
   "outputs": [],
   "source": [
    "# Create a model with scikit-learn\n",
    "model = LinearRegression()"
   ]
  },
  {
   "cell_type": "code",
   "execution_count": 56,
   "id": "bfce49a8-35a3-4a71-a12a-47a4092026d4",
   "metadata": {},
   "outputs": [
    {
     "data": {
      "text/plain": [
       "LinearRegression()"
      ]
     },
     "execution_count": 56,
     "metadata": {},
     "output_type": "execute_result"
    }
   ],
   "source": [
    "# Fit the data into the model\n",
    "model.fit(X, y)"
   ]
  },
  {
   "cell_type": "code",
   "execution_count": 57,
   "id": "d4f1e022-a565-4912-8d61-6c84ef21fce0",
   "metadata": {},
   "outputs": [
    {
     "name": "stdout",
     "output_type": "stream",
     "text": [
      "Model's slope: [-1.20248910e-02 -1.76886289e-01  1.85384538e-01  2.91506191e-01\n",
      "  7.10457678e-01  2.02108059e-10]\n"
     ]
    }
   ],
   "source": [
    "# Display the slope\n",
    "print(f\"Model's slope: {model.coef_}\")"
   ]
  },
  {
   "cell_type": "code",
   "execution_count": 58,
   "id": "15d52d41-f5c9-42ac-9edd-25f18dab62df",
   "metadata": {},
   "outputs": [
    {
     "name": "stdout",
     "output_type": "stream",
     "text": [
      "Model's y-intercept: 15.124954024416866\n"
     ]
    }
   ],
   "source": [
    "# Display the y-intercept\n",
    "print(f\"Model's y-intercept: {model.intercept_}\")"
   ]
  },
  {
   "cell_type": "code",
   "execution_count": 59,
   "id": "4cdea009-a231-4b5a-93b0-e3243c2d84e4",
   "metadata": {},
   "outputs": [
    {
     "name": "stdout",
     "output_type": "stream",
     "text": [
      "Model's formula: y = 15.124954024416866 + -0.012024890999554685X\n"
     ]
    }
   ],
   "source": [
    "# Display the model's best fit line formula\n",
    "print(f\"Model's formula: y = {model.intercept_} + {model.coef_[0]}X\")"
   ]
  },
  {
   "cell_type": "code",
   "execution_count": 60,
   "id": "d369d460-42c1-485e-a0d9-334045a16963",
   "metadata": {},
   "outputs": [
    {
     "name": "stdout",
     "output_type": "stream",
     "text": [
      "Model's formula: y = 15.124954024416866 + -0.012024890999554685 * 5\n"
     ]
    }
   ],
   "source": [
    "# Display the formula to predict Close price over the nextg 5 years\n",
    "print(f\"Model's formula: y = {model.intercept_} + {model.coef_[0]} * 5\")\n"
   ]
  },
  {
   "cell_type": "code",
   "execution_count": 29,
   "id": "564696a7-ec93-4798-be9d-c64d366a699e",
   "metadata": {},
   "outputs": [],
   "source": [
    "# Predict the Close value over the next 5 years\n",
    "y_5 = model.intercept_ + model.coef_[0] * 5"
   ]
  },
  {
   "cell_type": "code",
   "execution_count": 61,
   "id": "f4c5235f-6aea-4ccd-ad59-3684ff3af756",
   "metadata": {},
   "outputs": [
    {
     "name": "stdout",
     "output_type": "stream",
     "text": [
      "Predicted salary for a person with 5 years of experience: $6.11\n"
     ]
    }
   ],
   "source": [
    "# Display the prediction\n",
    "print(f\"Predicted salary for a person with 5 years of experience: ${y_5:.2f}\")"
   ]
  },
  {
   "cell_type": "code",
   "execution_count": 62,
   "id": "49b0befb-e12d-4d28-8614-b19c33c2216f",
   "metadata": {},
   "outputs": [],
   "source": [
    "# Make predictions using the X set\n",
    "predicted_y_values = model.predict(X)"
   ]
  },
  {
   "cell_type": "code",
   "execution_count": 63,
   "id": "6f34808d-3209-46df-a6ae-4982314b2ebc",
   "metadata": {},
   "outputs": [],
   "source": [
    "# Create a copy of the original data\n",
    "futures_data_df = futures_data_df.copy()\n"
   ]
  },
  {
   "cell_type": "code",
   "execution_count": 64,
   "id": "55b3e99c-861d-4187-8422-620b43313acf",
   "metadata": {},
   "outputs": [],
   "source": [
    "# Add a column with the predicted Close values\n",
    "futures_data_df[\"Predicted Close\"] = predicted_y_values"
   ]
  },
  {
   "cell_type": "code",
   "execution_count": 65,
   "id": "33ea94d0-e991-41b3-b26e-c9374d869a61",
   "metadata": {},
   "outputs": [
    {
     "data": {
      "text/html": [
       "<div>\n",
       "<style scoped>\n",
       "    .dataframe tbody tr th:only-of-type {\n",
       "        vertical-align: middle;\n",
       "    }\n",
       "\n",
       "    .dataframe tbody tr th {\n",
       "        vertical-align: top;\n",
       "    }\n",
       "\n",
       "    .dataframe thead th {\n",
       "        text-align: right;\n",
       "    }\n",
       "</style>\n",
       "<table border=\"1\" class=\"dataframe\">\n",
       "  <thead>\n",
       "    <tr style=\"text-align: right;\">\n",
       "      <th></th>\n",
       "      <th>index</th>\n",
       "      <th>Date</th>\n",
       "      <th>Open</th>\n",
       "      <th>High</th>\n",
       "      <th>Low</th>\n",
       "      <th>Close</th>\n",
       "      <th>Adj Close</th>\n",
       "      <th>Volume</th>\n",
       "      <th>Predicted Close</th>\n",
       "    </tr>\n",
       "  </thead>\n",
       "  <tbody>\n",
       "    <tr>\n",
       "      <th>0</th>\n",
       "      <td>0</td>\n",
       "      <td>2017-01-03 00:00:00-05:00</td>\n",
       "      <td>225.039993</td>\n",
       "      <td>225.830002</td>\n",
       "      <td>223.880005</td>\n",
       "      <td>225.240005</td>\n",
       "      <td>203.788040</td>\n",
       "      <td>91366500</td>\n",
       "      <td>227.247506</td>\n",
       "    </tr>\n",
       "    <tr>\n",
       "      <th>1</th>\n",
       "      <td>1</td>\n",
       "      <td>2017-01-04 00:00:00-05:00</td>\n",
       "      <td>225.619995</td>\n",
       "      <td>226.750000</td>\n",
       "      <td>225.610001</td>\n",
       "      <td>226.580002</td>\n",
       "      <td>205.000412</td>\n",
       "      <td>78744400</td>\n",
       "      <td>228.666533</td>\n",
       "    </tr>\n",
       "    <tr>\n",
       "      <th>2</th>\n",
       "      <td>2</td>\n",
       "      <td>2017-01-05 00:00:00-05:00</td>\n",
       "      <td>226.270004</td>\n",
       "      <td>226.580002</td>\n",
       "      <td>225.479996</td>\n",
       "      <td>226.399994</td>\n",
       "      <td>204.837585</td>\n",
       "      <td>78379000</td>\n",
       "      <td>228.354363</td>\n",
       "    </tr>\n",
       "    <tr>\n",
       "      <th>3</th>\n",
       "      <td>3</td>\n",
       "      <td>2017-01-06 00:00:00-05:00</td>\n",
       "      <td>226.529999</td>\n",
       "      <td>227.750000</td>\n",
       "      <td>225.899994</td>\n",
       "      <td>227.210007</td>\n",
       "      <td>205.570435</td>\n",
       "      <td>71559900</td>\n",
       "      <td>229.154960</td>\n",
       "    </tr>\n",
       "    <tr>\n",
       "      <th>4</th>\n",
       "      <td>4</td>\n",
       "      <td>2017-01-09 00:00:00-05:00</td>\n",
       "      <td>226.910004</td>\n",
       "      <td>227.070007</td>\n",
       "      <td>226.419998</td>\n",
       "      <td>226.460007</td>\n",
       "      <td>204.891861</td>\n",
       "      <td>46939700</td>\n",
       "      <td>228.614168</td>\n",
       "    </tr>\n",
       "  </tbody>\n",
       "</table>\n",
       "</div>"
      ],
      "text/plain": [
       "   index                      Date        Open        High         Low  \\\n",
       "0      0 2017-01-03 00:00:00-05:00  225.039993  225.830002  223.880005   \n",
       "1      1 2017-01-04 00:00:00-05:00  225.619995  226.750000  225.610001   \n",
       "2      2 2017-01-05 00:00:00-05:00  226.270004  226.580002  225.479996   \n",
       "3      3 2017-01-06 00:00:00-05:00  226.529999  227.750000  225.899994   \n",
       "4      4 2017-01-09 00:00:00-05:00  226.910004  227.070007  226.419998   \n",
       "\n",
       "        Close   Adj Close    Volume  Predicted Close  \n",
       "0  225.240005  203.788040  91366500       227.247506  \n",
       "1  226.580002  205.000412  78744400       228.666533  \n",
       "2  226.399994  204.837585  78379000       228.354363  \n",
       "3  227.210007  205.570435  71559900       229.154960  \n",
       "4  226.460007  204.891861  46939700       228.614168  "
      ]
     },
     "execution_count": 65,
     "metadata": {},
     "output_type": "execute_result"
    }
   ],
   "source": [
    "# Display sample data\n",
    "futures_data_df.head()"
   ]
  },
  {
   "cell_type": "code",
   "execution_count": 66,
   "id": "ddc9bf1c-ab08-493a-8b33-71857f8c6236",
   "metadata": {},
   "outputs": [
    {
     "data": {},
     "metadata": {},
     "output_type": "display_data"
    },
    {
     "data": {
      "application/vnd.holoviews_exec.v0+json": "",
      "text/html": [
       "<div id='3216'>\n",
       "\n",
       "\n",
       "\n",
       "\n",
       "\n",
       "  <div class=\"bk-root\" id=\"d327bb1e-b103-4a3c-accf-cfd9d520c6ce\" data-root-id=\"3216\"></div>\n",
       "</div>\n",
       "<script type=\"application/javascript\">(function(root) {\n",
       "  function embed_document(root) {\n",
       "    var docs_json = {\"2acee6dc-1285-4606-89f7-ba2cae248eec\":{\"defs\":[{\"extends\":null,\"module\":null,\"name\":\"ReactiveHTML1\",\"overrides\":[],\"properties\":[]},{\"extends\":null,\"module\":null,\"name\":\"FlexBox1\",\"overrides\":[],\"properties\":[{\"default\":\"flex-start\",\"kind\":null,\"name\":\"align_content\"},{\"default\":\"flex-start\",\"kind\":null,\"name\":\"align_items\"},{\"default\":\"row\",\"kind\":null,\"name\":\"flex_direction\"},{\"default\":\"wrap\",\"kind\":null,\"name\":\"flex_wrap\"},{\"default\":\"flex-start\",\"kind\":null,\"name\":\"justify_content\"}]},{\"extends\":null,\"module\":null,\"name\":\"GridStack1\",\"overrides\":[],\"properties\":[{\"default\":\"warn\",\"kind\":null,\"name\":\"mode\"},{\"default\":null,\"kind\":null,\"name\":\"ncols\"},{\"default\":null,\"kind\":null,\"name\":\"nrows\"},{\"default\":true,\"kind\":null,\"name\":\"allow_resize\"},{\"default\":true,\"kind\":null,\"name\":\"allow_drag\"},{\"default\":[],\"kind\":null,\"name\":\"state\"}]},{\"extends\":null,\"module\":null,\"name\":\"click1\",\"overrides\":[],\"properties\":[{\"default\":\"\",\"kind\":null,\"name\":\"terminal_output\"},{\"default\":\"\",\"kind\":null,\"name\":\"debug_name\"},{\"default\":0,\"kind\":null,\"name\":\"clears\"}]},{\"extends\":null,\"module\":null,\"name\":\"TemplateActions1\",\"overrides\":[],\"properties\":[{\"default\":0,\"kind\":null,\"name\":\"open_modal\"},{\"default\":0,\"kind\":null,\"name\":\"close_modal\"}]},{\"extends\":null,\"module\":null,\"name\":\"MaterialTemplateActions1\",\"overrides\":[],\"properties\":[{\"default\":0,\"kind\":null,\"name\":\"open_modal\"},{\"default\":0,\"kind\":null,\"name\":\"close_modal\"}]}],\"roots\":{\"references\":[{\"attributes\":{\"line_color\":\"red\",\"line_width\":2,\"x\":{\"field\":\"Date\"},\"y\":{\"field\":\"Close\"}},\"id\":\"3259\",\"type\":\"Line\"},{\"attributes\":{\"callback\":null,\"formatters\":{\"@{Date}\":\"datetime\"},\"renderers\":[{\"id\":\"3257\"}],\"tags\":[\"hv_created\"],\"tooltips\":[[\"Date\",\"@{Date}{%F %T}\"],[\"Close\",\"@{Close}\"]]},\"id\":\"3220\",\"type\":\"HoverTool\"},{\"attributes\":{},\"id\":\"3228\",\"type\":\"LinearScale\"},{\"attributes\":{\"coordinates\":null,\"data_source\":{\"id\":\"3251\"},\"glyph\":{\"id\":\"3254\"},\"group\":null,\"hover_glyph\":null,\"muted_glyph\":{\"id\":\"3256\"},\"nonselection_glyph\":{\"id\":\"3255\"},\"selection_glyph\":{\"id\":\"3259\"},\"view\":{\"id\":\"3258\"}},\"id\":\"3257\",\"type\":\"GlyphRenderer\"},{\"attributes\":{\"axis\":{\"id\":\"3230\"},\"coordinates\":null,\"grid_line_color\":null,\"group\":null,\"ticker\":null},\"id\":\"3233\",\"type\":\"Grid\"},{\"attributes\":{\"coordinates\":null,\"group\":null,\"text_color\":\"black\",\"text_font_size\":\"12pt\"},\"id\":\"3222\",\"type\":\"Title\"},{\"attributes\":{\"source\":{\"id\":\"3251\"}},\"id\":\"3258\",\"type\":\"CDSView\"},{\"attributes\":{\"margin\":[5,5,5,5],\"name\":\"HSpacer03756\",\"sizing_mode\":\"stretch_width\"},\"id\":\"3310\",\"type\":\"Spacer\"},{\"attributes\":{},\"id\":\"3239\",\"type\":\"PanTool\"},{\"attributes\":{\"axis_label\":\"Close\",\"coordinates\":null,\"formatter\":{\"id\":\"3264\"},\"group\":null,\"major_label_policy\":{\"id\":\"3265\"},\"ticker\":{\"id\":\"3235\"}},\"id\":\"3234\",\"type\":\"LinearAxis\"},{\"attributes\":{\"axis_label\":\"Date\",\"coordinates\":null,\"formatter\":{\"id\":\"3261\"},\"group\":null,\"major_label_policy\":{\"id\":\"3262\"},\"ticker\":{\"id\":\"3231\"}},\"id\":\"3230\",\"type\":\"DatetimeAxis\"},{\"attributes\":{\"axis\":{\"id\":\"3234\"},\"coordinates\":null,\"dimension\":1,\"grid_line_color\":null,\"group\":null,\"ticker\":null},\"id\":\"3237\",\"type\":\"Grid\"},{\"attributes\":{\"num_minor_ticks\":5,\"tickers\":[{\"id\":\"3276\"},{\"id\":\"3277\"},{\"id\":\"3278\"},{\"id\":\"3279\"},{\"id\":\"3280\"},{\"id\":\"3281\"},{\"id\":\"3282\"},{\"id\":\"3283\"},{\"id\":\"3284\"},{\"id\":\"3285\"},{\"id\":\"3286\"},{\"id\":\"3287\"}]},\"id\":\"3231\",\"type\":\"DatetimeTicker\"},{\"attributes\":{\"line_alpha\":0.1,\"line_color\":\"red\",\"line_width\":2,\"x\":{\"field\":\"Date\"},\"y\":{\"field\":\"Close\"}},\"id\":\"3255\",\"type\":\"Line\"},{\"attributes\":{},\"id\":\"3235\",\"type\":\"BasicTicker\"},{\"attributes\":{},\"id\":\"3240\",\"type\":\"WheelZoomTool\"},{\"attributes\":{},\"id\":\"3262\",\"type\":\"AllLabels\"},{\"attributes\":{\"mantissas\":[1,2,5],\"max_interval\":500.0,\"num_minor_ticks\":0},\"id\":\"3276\",\"type\":\"AdaptiveTicker\"},{\"attributes\":{},\"id\":\"3238\",\"type\":\"SaveTool\"},{\"attributes\":{},\"id\":\"3264\",\"type\":\"BasicTickFormatter\"},{\"attributes\":{\"overlay\":{\"id\":\"3243\"}},\"id\":\"3241\",\"type\":\"BoxZoomTool\"},{\"attributes\":{\"base\":60,\"mantissas\":[1,2,5,10,15,20,30],\"max_interval\":1800000.0,\"min_interval\":1000.0,\"num_minor_ticks\":0},\"id\":\"3277\",\"type\":\"AdaptiveTicker\"},{\"attributes\":{},\"id\":\"3242\",\"type\":\"ResetTool\"},{\"attributes\":{\"base\":24,\"mantissas\":[1,2,4,6,8,12],\"max_interval\":43200000.0,\"min_interval\":3600000.0,\"num_minor_ticks\":0},\"id\":\"3278\",\"type\":\"AdaptiveTicker\"},{\"attributes\":{\"margin\":[5,5,5,5],\"name\":\"HSpacer03755\",\"sizing_mode\":\"stretch_width\"},\"id\":\"3217\",\"type\":\"Spacer\"},{\"attributes\":{},\"id\":\"3287\",\"type\":\"YearsTicker\"},{\"attributes\":{\"bottom_units\":\"screen\",\"coordinates\":null,\"fill_alpha\":0.5,\"fill_color\":\"lightgrey\",\"group\":null,\"left_units\":\"screen\",\"level\":\"overlay\",\"line_alpha\":1.0,\"line_color\":\"black\",\"line_dash\":[4,4],\"line_width\":2,\"right_units\":\"screen\",\"syncable\":false,\"top_units\":\"screen\"},\"id\":\"3243\",\"type\":\"BoxAnnotation\"},{\"attributes\":{\"months\":[0,1,2,3,4,5,6,7,8,9,10,11]},\"id\":\"3283\",\"type\":\"MonthsTicker\"},{\"attributes\":{\"children\":[{\"id\":\"3217\"},{\"id\":\"3221\"},{\"id\":\"3310\"}],\"margin\":[0,0,0,0],\"name\":\"Row03751\",\"tags\":[\"embedded\"]},\"id\":\"3216\",\"type\":\"Row\"},{\"attributes\":{\"days\":[1,15]},\"id\":\"3282\",\"type\":\"DaysTicker\"},{\"attributes\":{\"line_color\":\"red\",\"line_width\":2,\"x\":{\"field\":\"Date\"},\"y\":{\"field\":\"Close\"}},\"id\":\"3254\",\"type\":\"Line\"},{\"attributes\":{\"days\":[1,2,3,4,5,6,7,8,9,10,11,12,13,14,15,16,17,18,19,20,21,22,23,24,25,26,27,28,29,30,31]},\"id\":\"3279\",\"type\":\"DaysTicker\"},{\"attributes\":{\"days\":[1,4,7,10,13,16,19,22,25,28]},\"id\":\"3280\",\"type\":\"DaysTicker\"},{\"attributes\":{},\"id\":\"3252\",\"type\":\"Selection\"},{\"attributes\":{\"tools\":[{\"id\":\"3220\"},{\"id\":\"3238\"},{\"id\":\"3239\"},{\"id\":\"3240\"},{\"id\":\"3241\"},{\"id\":\"3242\"}]},\"id\":\"3244\",\"type\":\"Toolbar\"},{\"attributes\":{\"days\":[1,8,15,22]},\"id\":\"3281\",\"type\":\"DaysTicker\"},{\"attributes\":{},\"id\":\"3265\",\"type\":\"AllLabels\"},{\"attributes\":{\"months\":[0,6]},\"id\":\"3286\",\"type\":\"MonthsTicker\"},{\"attributes\":{\"months\":[0,2,4,6,8,10]},\"id\":\"3284\",\"type\":\"MonthsTicker\"},{\"attributes\":{\"line_alpha\":0.2,\"line_color\":\"red\",\"line_width\":2,\"x\":{\"field\":\"Date\"},\"y\":{\"field\":\"Close\"}},\"id\":\"3256\",\"type\":\"Line\"},{\"attributes\":{\"below\":[{\"id\":\"3230\"}],\"center\":[{\"id\":\"3233\"},{\"id\":\"3237\"}],\"height\":300,\"left\":[{\"id\":\"3234\"}],\"margin\":[5,5,5,5],\"min_border_bottom\":10,\"min_border_left\":10,\"min_border_right\":10,\"min_border_top\":10,\"renderers\":[{\"id\":\"3257\"}],\"sizing_mode\":\"fixed\",\"title\":{\"id\":\"3222\"},\"toolbar\":{\"id\":\"3244\"},\"width\":700,\"x_range\":{\"id\":\"3218\"},\"x_scale\":{\"id\":\"3226\"},\"y_range\":{\"id\":\"3219\"},\"y_scale\":{\"id\":\"3228\"}},\"id\":\"3221\",\"subtype\":\"Figure\",\"type\":\"Plot\"},{\"attributes\":{},\"id\":\"3226\",\"type\":\"LinearScale\"},{\"attributes\":{},\"id\":\"3261\",\"type\":\"DatetimeTickFormatter\"},{\"attributes\":{\"months\":[0,4,8]},\"id\":\"3285\",\"type\":\"MonthsTicker\"},{\"attributes\":{\"end\":1666742400000.0,\"reset_end\":1666742400000.0,\"reset_start\":1483401600000.0,\"start\":1483401600000.0,\"tags\":[[[\"Date\",\"Date\",null]]]},\"id\":\"3218\",\"type\":\"Range1d\"},{\"attributes\":{},\"id\":\"3273\",\"type\":\"UnionRenderers\"},{\"attributes\":{\"data\":{\"Close\":{\"__ndarray__\":\"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\",\"dtype\":\"float64\",\"order\":\"little\",\"shape\":[1465]},\"Date\":{\"__ndarray__\":\"AADAARqWdUIAAIBnbJZ1QgAAQM2+lnVCAAAAMxGXdUIAAEBkCJh1QgAAAMpamHVCAADAL62YdUIAAICV/5h1QgAAQPtRmXVCAABAkpuadUIAAAD47Zp1QgAAwF1Am3VCAACAw5KbdUIAAMD0iZx1QgAAgFrcnHVCAABAwC6ddUIAAAAmgZ11QgAAwIvTnXVCAAAAvcqedUIAAMAiHZ91QgAAgIhvn3VCAABA7sGfdUIAAABUFKB1QgAAQIULoXVCAAAA612hdUIAAMBQsKF1QgAAgLYConVCAABAHFWidUIAAIBNTKN1QgAAQLOeo3VCAAAAGfGjdUIAAMB+Q6R1QgAAgOSVpHVCAACAe9+ldUIAAEDhMaZ1QgAAAEeEpnVCAADArNamdUIAAADezad1QgAAwEMgqHVCAACAqXKodUIAAEAPxah1QgAAAHUXqXVCAABApg6qdUIAAAAMYap1QgAAwHGzqnVCAACA1wWrdUIAAEA9WKt1QgAAgG5PrHVCAABA1KGsdUIAAAA69Kx1QgAAwJ9GrXVCAACABZmtdUIAAMA2kK51QgAAgJzirnVCAABAAjWvdUIAAABoh691QgAAwM3Zr3VCAAAA/9CwdUIAAMBkI7F1QgAAgMp1sXVCAABAMMixdUIAAACWGrJ1QgAAQMcRs3VCAAAALWSzdUIAAMCStrN1QgAAgPgItHVCAABAXlu0dUIAAICPUrV1QgAAQPWktXVCAAAAW/e1dUIAAMDASbZ1QgAAwFeTt3VCAACAveW3dUIAAEAjOLh1QgAAAImKuHVCAADA7ty4dUIAAAAg1Ll1QgAAwIUmunVCAACA63i6dUIAAEBRy7p1QgAAALcdu3VCAABA6BS8dUIAAABOZ7x1QgAAwLO5vHVCAACAGQy9dUIAAEB/Xr11QgAAgLBVvnVCAABAFqi+dUIAAAB8+r51QgAAwOFMv3VCAACAR5+/dUIAAMB4lsB1QgAAgN7owHVCAABARDvBdUIAAACqjcF1QgAAwA/gwXVCAAAAQdfCdUIAAMCmKcN1QgAAgAx8w3VCAABAcs7DdUIAAADYIMR1QgAAAG9qxXVCAADA1LzFdUIAAIA6D8Z1QgAAQKBhxnVCAACA0VjHdUIAAEA3q8d1QgAAAJ39x3VCAADAAlDIdUIAAIBoosh1QgAAwJmZyXVCAACA/+vJdUIAAEBlPsp1QgAAAMuQynVCAADAMOPKdUIAAABi2st1QgAAwMcszHVCAACALX/MdUIAAECT0cx1QgAAAPkjzXVCAABAKhvOdUIAAACQbc51QgAAwPW/znVCAACAWxLPdUIAAEDBZM91QgAAgPJb0HVCAAAAvgDRdUIAAMAjU9F1QgAAgIml0XVCAADAupzSdUIAAIAg79J1QgAAQIZB03VCAAAA7JPTdUIAAMBR5tN1QgAAAIPd1HVCAADA6C/VdUIAAIBOgtV1QgAAQLTU1XVCAAAAGifWdUIAAEBLHtd1QgAAALFw13VCAADAFsPXdUIAAIB8Fdh1QgAAQOJn2HVCAACAE1/ZdUIAAEB5sdl1QgAAAN8D2nVCAADARFbadUIAAICqqNp1QgAAwNuf23VCAACAQfLbdUIAAECnRNx1QgAAAA2X3HVCAADAcuncdUIAAACk4N11QgAAwAkz3nVCAACAb4XedUIAAEDV1951QgAAADsq33VCAABAbCHgdUIAAADSc+B1QgAAwDfG4HVCAACAnRjhdUIAAEADa+F1QgAAgDRi4nVCAABAmrTidUIAAAAAB+N1QgAAwGVZ43VCAACAy6vjdUIAAIBi9eR1QgAAQMhH5XVCAAAALprldUIAAMCT7OV1QgAAAMXj5nVCAADAKjbndUIAAICQiOd1QgAAQPba53VCAAAAXC3odUIAAECNJOl1QgAAAPN26XVCAADAWMnpdUIAAIC+G+p1QgAAQCRu6nVCAACAVWXrdUIAAEC7t+t1QgAAACEK7HVCAADAhlzsdUIAAIDsrux1QgAAwB2m7XVCAACAg/jtdUIAAEDpSu51QgAAAE+d7nVCAADAtO/udUIAAADm5u91QgAAwEs58HVCAACAsYvwdUIAAEAX3vB1QgAAAH0w8XVCAABArifydUIAAAAUevJ1QgAAwHnM8nVCAACA3x7zdUIAAEBFcfN1QgAAgHZo9HVCAABA3Lr0dUIAAABCDfV1QgAAwKdf9XVCAACADbL1dUIAAMA+qfZ1QgAAgKT79nVCAABACk73dUIAAABwoPd1QgAAwNXy93VCAAAAB+r4dUIAAMBsPPl1QgAAgNKO+XVCAABAOOH5dUIAAACeM/p1QgAAQM8q+3VCAAAANX37dUIAAMCaz/t1QgAAgAAi/HVCAABAZnT8dUIAAICXa/11QgAAQP29/XVCAAAAYxD+dUIAAIAutf51QgAAwF+s/3VCAACAxf7/dUIAAEArUQB2QgAAAJGjAHZCAADA9vUAdkIAAAAo7QF2QgAAwI0/AnZCAACA85ECdkIAAEBZ5AJ2QgAAAL82A3ZCAABA8C0EdkIAAABWgAR2QgAAwLvSBHZCAACAISUFdkIAAECHdwV2QgAAgLhuBnZCAABAHsEGdkIAAACEEwd2QgAAwOllB3ZCAACAT7gHdkIAAIDmAQl2QgAAQExUCXZCAAAAsqYJdkIAAMAX+Ql2QgAAwK5CC3ZCAACAFJULdkIAAEB65wt2QgAAAOA5DHZCAABAETENdkIAAAB3gw12QgAAwNzVDXZCAACAQigOdkIAAECoeg52QgAAQD/ED3ZCAAAApRYQdkIAAMAKaRB2QgAAgHC7EHZCAADAobIRdkIAAIAHBRJ2QgAAQG1XEnZCAAAA06kSdkIAAMA4/BJ2QgAAAGrzE3ZCAADAz0UUdkIAAIA1mBR2QgAAQJvqFHZCAAAAAT0VdkIAAEAyNBZ2QgAAAJiGFnZCAADA/dgWdkIAAIBjKxd2QgAAQMl9F3ZCAACA+nQYdkIAAEBgxxh2QgAAAMYZGXZCAADAK2wZdkIAAICRvhl2QgAAgCgIG3ZCAABAjlobdkIAAAD0rBt2QgAAwFn/G3ZCAAAAi/YcdkIAAMDwSB12QgAAgFabHXZCAABAvO0ddkIAAAAiQB52QgAAQFM3H3ZCAAAAuYkfdkIAAMAe3B92QgAAgIQuIHZCAABA6oAgdkIAAIAbeCF2QgAAQIHKIXZCAAAA5xwidkIAAMBMbyJ2QgAAgLLBInZCAADA47gjdkIAAIBJCyR2QgAAQK9dJHZCAAAAFbAkdkIAAMB6AiV2QgAAAKz5JXZCAADAEUwmdkIAAIB3niZ2QgAAQN3wJnZCAABAdDoodkIAAADajCh2QgAAwD/fKHZCAACApTEpdkIAAEALhCl2QgAAgDx7KnZCAABAos0qdkIAAAAIICt2QgAAwG1yK3ZCAACA08QrdkIAAMAEvCx2QgAAgGoOLXZCAABA0GAtdkIAAAA2sy12QgAAwJsFLnZCAAAAzfwudkIAAMAyTy92QgAAgJihL3ZCAABA/vMvdkIAAABkRjB2QgAAQJU9MXZCAAAA+48xdkIAAMBg4jF2QgAAgMY0MnZCAABALIcydkIAAIBdfjN2QgAAQMPQM3ZCAAAAKSM0dkIAAMCOdTR2QgAAgPTHNHZCAADAJb81dkIAAICLETZ2QgAAQPFjNnZCAAAAV7Y2dkIAAMC8CDd2QgAAAO7/N3ZCAADAU1I4dkIAAIC5pDh2QgAAQB/3OHZCAAAAhUk5dkIAAAAckzp2QgAAwIHlOnZCAACA5zc7dkIAAEBNijt2QgAAgH6BPHZCAABA5NM8dkIAAABKJj12QgAAwK94PXZCAACAFcs9dkIAAMBGwj52QgAAgKwUP3ZCAABAEmc/dkIAAAB4uT92QgAAwN0LQHZCAAAADwNBdkIAAMB0VUF2QgAAgNqnQXZCAABAQPpBdkIAAACmTEJ2QgAAQNdDQ3ZCAAAAPZZDdkIAAMCi6EN2QgAAgAg7RHZCAABAbo1EdkIAAICfhEV2QgAAQAXXRXZCAADA0HtGdkIAAIA2zkZ2QgAAwGfFR3ZCAACAzRdIdkIAAEAzakh2QgAAAJm8SHZCAADA/g5JdkIAAAAwBkp2QgAAwJVYSnZCAACA+6pKdkIAAEBh/Up2QgAAAMdPS3ZCAABA+EZMdkIAAABemUx2QgAAwMPrTHZCAACAKT5NdkIAAECPkE12QgAAgMCHTnZCAABAJtpOdkIAAACMLE92QgAAwPF+T3ZCAACAV9FPdkIAAMCIyFB2QgAAgO4aUXZCAABAVG1RdkIAAAC6v1F2QgAAwB8SUnZCAAAAUQlTdkIAAMC2W1N2QgAAgByuU3ZCAABAggBUdkIAAADoUlR2QgAAQBlKVXZCAAAAf5xVdkIAAMDk7lV2QgAAgEpBVnZCAABAsJNWdkIAAIDhild2QgAAQEfdV3ZCAAAArS9YdkIAAMASglh2QgAAgHjUWHZCAACADx5adkIAAEB1cFp2QgAAANvCWnZCAADAQBVbdkIAAAByDFx2QgAAwNdeXHZCAACAPbFcdkIAAECjA112QgAAAAlWXXZCAABAOk1edkIAAACgn152QgAAwAXyXnZCAACAa0RfdkIAAEDRll92QgAAgAKOYHZCAABAaOBgdkIAAADOMmF2QgAAwDOFYXZCAACAmddhdkIAAMDKzmJ2QgAAgDAhY3ZCAABAlnNjdkIAAAD8xWN2QgAAwGEYZHZCAAAAkw9ldkIAAMD4YWV2QgAAgF60ZXZCAABAxAZmdkIAAAAqWWZ2QgAAQFtQZ3ZCAAAAwaJndkIAAMAm9Wd2QgAAgIxHaHZCAABA8plodkIAAIAjkWl2QgAAQInjaXZCAAAA7zVqdkIAAMBUiGp2QgAAgLraanZCAADA69FrdkIAAIBRJGx2QgAAQLd2bHZCAAAAHclsdkIAAMCCG212QgAAALQSbnZCAADAGWVudkIAAIB/t252QgAAQOUJb3ZCAAAAS1xvdkIAAEB8U3B2QgAAAOKlcHZCAADAR/hwdkIAAICtSnF2QgAAQBOdcXZCAACARJRydkIAAECq5nJ2QgAAABA5c3ZCAACA291zdkIAAMAM1XR2QgAAgHIndXZCAABA2Hl1dkIAAAA+zHV2QgAAwKMednZCAAAA1RV3dkIAAMA6aHd2QgAAQAYNeHZCAAAAbF94dkIAAECdVnl2QgAAAAOpeXZCAADAaPt5dkIAAIDOTXp2QgAAQDSgenZCAACAZZd7dkIAAEDL6Xt2QgAAADE8fHZCAADAlo58dkIAAID84Hx2QgAAwC3YfXZCAABA+Xx+dkIAAABfz352QgAAwMQhf3ZCAAAA9hiAdkIAAIDBvYB2QgAAQCcQgXZCAAAAjWKBdkIAAEC+WYJ2QgAAACSsgnZCAADAif6CdkIAAIDvUIN2QgAAQFWjg3ZCAACAhpqEdkIAAEDs7IR2QgAAAFI/hXZCAADAt5GFdkIAAIAd5IV2QgAAgLQth3ZCAABAGoCHdkIAAACA0od2QgAAwOUkiHZCAAAAFxyJdkIAAMB8bol2QgAAgOLAiXZCAABASBOKdkIAAACuZYp2QgAAQN9ci3ZCAAAARa+LdkIAAMCqAYx2QgAAgBBUjHZCAABAdqaMdkIAAICnnY12QgAAQA3wjXZCAAAAc0KOdkIAAMDYlI52QgAAgD7njnZCAACA1TCQdkIAAEA7g5B2QgAAAKHVkHZCAADABiiRdkIAAAA4H5J2QgAAwJ1xknZCAACAA8SSdkIAAEBpFpN2QgAAAM9ok3ZCAABAAGCUdkIAAABmspR2QgAAwMsElXZCAACAMVeVdkIAAECXqZV2QgAAgMiglnZCAABALvOWdkIAAACURZd2QgAAwPmXl3ZCAACAX+qXdkIAAMCQ4Zh2QgAAgPYzmXZCAABAXIaZdkIAAADC2Jl2QgAAwCcrmnZCAAAAWSKbdkIAAMC+dJt2QgAAgCTHm3ZCAABAihmcdkIAAADwa5x2QgAAQCFjnXZCAAAAh7WddkIAAMDsB552QgAAgFJannZCAABAuKyedkIAAIDpo592QgAAQE/2n3ZCAAAAtUigdkIAAMAam6B2QgAAgIDtoHZCAADAseShdkIAAIAXN6J2QgAAQH2JonZCAAAA49uidkIAAAB6JaR2QgAAwN93pHZCAACARcqkdkIAAECrHKV2QgAAABFvpXZCAABAQmamdkIAAACouKZ2QgAAwA0Lp3ZCAACAc12ndkIAAEDZr6d2QgAAgAqnqHZCAABAcPmodkIAAADWS6l2QgAAwDueqXZCAACAofCpdkIAAMDS56p2QgAAgDg6q3ZCAABAnoyrdkIAAAAE36t2QgAAwGkxrHZCAAAAmyitdkIAAMAAe612QgAAgGbNrXZCAABAzB+udkIAAAAycq52QgAAAMm7r3ZCAADALg6wdkIAAICUYLB2QgAAQPqysHZCAACAK6qxdkIAAECR/LF2QgAAAPdOsnZCAADAXKGydkIAAIDC87J2QgAAwPPqs3ZCAACAWT20dkIAAEC/j7R2QgAAACXitHZCAADAijS1dkIAAAC8K7Z2QgAAwCF+tnZCAACAh9C2dkIAAEDtIrd2QgAAAFN1t3ZCAABAhGy4dkIAAADqvrh2QgAAwE8RuXZCAACAtWO5dkIAAEAbtrl2QgAAgEytunZCAABAsv+6dkIAAAAYUrt2QgAAgOP2u3ZCAADAFO68dkIAAIB6QL12QgAAQOCSvXZCAAAARuW9dkIAAMCrN752QgAAAN0uv3ZCAADAQoG/dkIAAICo0792QgAAQA4mwHZCAAAAdHjAdkIAAEClb8F2QgAAAAvCwXZCAADAcBTCdkIAAIDWZsJ2QgAAQDy5wnZCAACAbbDDdkIAAEDTAsR2QgAAADlVxHZCAADAnqfEdkIAAIAE+sR2QgAAwDXxxXZCAACAm0PGdkIAAEABlsZ2QgAAAGfoxnZCAADAzDrHdkIAAAD+Mch2QgAAwGOEyHZCAACAydbIdkIAAEAvKcl2QgAAAJV7yXZCAABAxnLKdkIAAAAsxcp2QgAAwJEXy3ZCAACA92nLdkIAAEBdvMt2QgAAgI6zzHZCAABA9AXNdkIAAABaWM12QgAAwL+qzXZCAACAJf3NdkIAAIC8Rs92QgAAQCKZz3ZCAAAAiOvPdkIAAMDtPdB2QgAAAB810XZCAADAhIfRdkIAAIDq2dF2QgAAQFAs0nZCAAAAtn7SdkIAAEDnddN2QgAAAE3I03ZCAADAshrUdkIAAIAYbdR2QgAAQH6/1HZCAACAr7bVdkIAAEAVCdZ2QgAAAHtb1nZCAADA4K3WdkIAAIBGANd2QgAAwHf313ZCAACA3UnYdkIAAEBDnNh2QgAAAKnu2HZCAADADkHZdkIAAABAONp2QgAAwKWK2nZCAACAC93adkIAAEBxL9t2QgAAANeB23ZCAABACHncdkIAAABuy9x2QgAAwNMd3XZCAACAOXDddkIAAECfwt12QgAAgNC53nZCAABANgzfdkIAAACcXt92QgAAwAGx33ZCAACAZwPgdkIAAMCY+uB2QgAAgP5M4XZCAABAZJ/hdkIAAADK8eF2QgAAwC9E4nZCAAAAYTvjdkIAAMDGjeN2QgAAgCzg43ZCAABAkjLkdkIAAAD4hOR2QgAAQCl85XZCAAAAj87ldkIAAMD0IOZ2QgAAgFpz5nZCAABAwMXmdkIAAIDxvOd2QgAAQFcP6HZCAAAAvWHodkIAAMAitOh2QgAAgIgG6XZCAADAuf3pdkIAAIAfUOp2QgAAQIWi6nZCAADAUEfrdkIAAACCPux2QgAAwOeQ7HZCAACATePsdkIAAECzNe12QgAAABmI7XZCAABASn/udkIAAACw0e52QgAAwBUk73ZCAACAe3bvdkIAAEDhyO92QgAAgBLA8HZCAABAeBLxdkIAAADeZPF2QgAAwEO38XZCAACAqQnydkIAAMDaAPN2QgAAgEBT83ZCAAAADPjzdkIAAMBxSvR2QgAAAKNB9XZCAADACJT1dkIAAEDUOPZ2QgAAADqL9nZCAABAa4L3dkIAAADR1Pd2QgAAwDYn+HZCAACAnHn4dkIAAEACzPh2QgAAgDPD+XZCAABAmRX6dkIAAAD/Z/p2QgAAwGS6+nZCAACAygz7dkIAAIBhVvx2QgAAQMeo/HZCAAAALfv8dkIAAMCSTf12QgAAAMRE/nZCAADAKZf+dkIAAICP6f52QgAAQPU7/3ZCAAAAW47/dkIAAECMhQB3QgAAAPLXAHdCAADAVyoBd0IAAIC9fAF3QgAAQCPPAXdCAACAVMYCd0IAAEC6GAN3QgAAACBrA3dCAADAhb0Dd0IAAIDrDwR3QgAAgIJZBXdCAABA6KsFd0IAAABO/gV3QgAAwLNQBndCAAAA5UcHd0IAAMBKmgd3QgAAgLDsB3dCAABAFj8Id0IAAAB8kQh3QgAAQK2ICXdCAAAAE9sJd0IAAMB4LQp3QgAAgN5/CndCAABARNIKd0IAAIB1yQt3QgAAQNsbDHdCAAAAQW4Md0IAAMCmwAx3QgAAgAwTDXdCAADAPQoOd0IAAICjXA53QgAAQAmvDndCAAAAbwEPd0IAAMDUUw93QgAAAAZLEHdCAADAa50Qd0IAAIDR7xB3QgAAQDdCEXdCAAAAnZQRd0IAAEDOixJ3QgAAADTeEndCAADAmTATd0IAAID/ghN3QgAAQGXVE3dCAACAlswUd0IAAED8HhV3QgAAAGJxFXdCAADAx8MVd0IAAMBeDRd3QgAAgMRfF3dCAABAKrIXd0IAAACQBBh3QgAAwPVWGHdCAAAAJ04Zd0IAAMCMoBl3QgAAgPLyGXdCAABAWEUad0IAAAC+lxp3QgAAQO+OG3dCAAAAVeEbd0IAAMC6Mxx3QgAAgCCGHHdCAABAhtgcd0IAAIC3zx13QgAAQB0iHndCAAAAg3Qed0IAAMDoxh53QgAAgE4ZH3dCAADAfxAgd0IAAIDlYiB3QgAAQEu1IHdCAAAAsQchd0IAAMAWWiF3QgAAAEhRIndCAADAraMid0IAAIAT9iJ3QgAAQHlII3dCAAAA35ojd0IAAAB25CR3QgAAwNs2JXdCAACAQYkld0IAAECn2yV3QgAAgNjSJndCAABAPiUnd0IAAACkdyd3QgAAwAnKJ3dCAACAbxwod0IAAMCgEyl3QgAAgAZmKXdCAABAbLgpd0IAAADSCip3QgAAwDddKndCAAAAaVQrd0IAAMDOpit3QgAAgDT5K3dCAABAmkssd0IAAAAAnix3QgAAQDGVLXdCAAAAl+ctd0IAAMD8OS53QgAAgGKMLndCAABAyN4ud0IAAID51S93QgAAQF8oMHdCAAAAxXowd0IAAMAqzTB3QgAAwMEWMndCAACAJ2kyd0IAAECNuzJ3QgAAAPMNM3dCAADAWGAzd0IAAACKVzR3QgAAwO+pNHdCAACAVfw0d0IAAEC7TjV3QgAAACGhNXdCAABAUpg2d0IAAAC46jZ3QgAAwB09N3dCAACAg483d0IAAEDp4Td3QgAAgBrZOHdCAABAgCs5d0IAAADmfTl3QgAAwEvQOXdCAACAsSI6d0IAAMDiGTt3QgAAgEhsO3dCAABArr47d0IAAAAUETx3QgAAwHljPHdCAAAAq1o9d0IAAMAQrT13QgAAgHb/PXdCAABA3FE+d0IAAABCpD53QgAAQHObP3dCAAAA2e0/d0IAAMA+QEB3QgAAgKSSQHdCAABACuVAd0IAAIA73EF3QgAAQKEuQndCAAAAB4FCd0IAAMBs00J3QgAAgNIlQ3dCAADAAx1Ed0IAAIBpb0R3QgAAQM/BRHdCAAAANRRFd0IAAMCaZkV3QgAAwDGwRndCAACAlwJHd0IAAED9VEd3QgAAAGOnR3dCAABAlJ5Id0IAAAD68Eh3QgAAwF9DSXdCAACAxZVJd0IAAEAr6El3QgAAgFzfSndCAABAwjFLd0IAAAAohEt3QgAAwI3WS3dCAACA8yhMd0IAAMAkIE13QgAAgIpyTXdCAABA8MRNd0IAAABWF053QgAAwLtpTndCAAAA7WBPd0IAAMBSs093QgAAgLgFUHdCAABAHlhQd0IAAACEqlB3QgAAQLWhUXdCAAAAG/RRd0IAAMCARlJ3QgAAgOaYUndCAABATOtSd0IAAIB94lN3QgAAQOM0VHdCAAAASYdUd0IAAMCu2VR3QgAAgBQsVXdCAADARSNWd0IAAICrdVZ3QgAAQBHIVndCAAAAdxpXd0IAAMDcbFd3QgAAAA5kWHdCAADAc7ZYd0IAAIDZCFl3QgAAQD9bWXdCAAAApa1Zd0IAAEDWpFp3QgAAADz3WndCAADAoUlbd0IAAIAHnFt3QgAAQG3uW3dCAACAnuVcd0IAAEAEOF13QgAAAGqKXXdCAADAz9xdd0IAAIA1L153QgAAwGYmX3dCAACAzHhfd0IAAEAyy193QgAAwP1vYHdCAAAAL2dhd0IAAMCUuWF3QgAAgPoLYndCAABAYF5id0IAAADGsGJ3QgAAQPenY3dCAAAAXfpjd0IAAMDCTGR3QgAAgCifZHdCAABAjvFkd0IAAIC/6GV3QgAAQCU7ZndCAAAAi41md0IAAMDw32Z3QgAAgFYyZ3dCAADAhylod0IAAIDte2h3QgAAQFPOaHdCAAAAuSBpd0IAAABQamp3QgAAwLW8andCAACAGw9rd0IAAECBYWt3QgAAQBirbHdCAAAAfv1sd0IAAMDjT213QgAAgEmibXdCAABAr/Rtd0IAAIDg6253QgAAQEY+b3dCAAAArJBvd0IAAMAR4293QgAAgHc1cHdCAACADn9xd0IAAEB00XF3QgAAANojcndCAADAP3Zyd0IAAABxbXN3QgAAwNa/c3dCAACAPBJ0d0IAAECiZHR3QgAAAAi3dHdCAABAOa51d0IAAACfAHZ3QgAAwARTdndCAACAaqV2d0IAAEDQ93Z3QgAAgAHvd3dCAABAZ0F4d0IAAADNk3h3QgAAwDLmeHdCAACAmDh5d0IAAIAvgnp3QgAAQJXUendCAAAA+yZ7d0IAAMBgeXt3QgAAAJJwfHdCAADA98J8d0IAAIBdFX13QgAAQMNnfXdCAAAAKbp9d0IAAEBasX53QgAAAMADf3dCAADAJVZ/d0IAAICLqH93QgAAQPH6f3dCAACAIvKAd0IAAECIRIF3QgAAAO6WgXdCAADAU+mBd0IAAIC5O4J3QgAAwOoyg3dCAACAUIWDd0IAAEC214N3QgAAABwqhHdCAADAgXyEd0IAAACzc4V3QgAAwBjGhXdCAACAfhiGd0IAAEDkaoZ3QgAAAEq9hndCAABAe7SHd0IAAADhBoh3QgAAwEZZiHdCAACArKuId0IAAIBD9Yl3QgAAQKlHindCAAAAD5qKd0IAAMB07Ip3QgAAgNo+i3dCAADACzaMd0IAAIBxiIx3QgAAQNfajHdCAAAAPS2Nd0IAAMCif413QgAAANR2jndCAADAOcmOd0IAAICfG493QgAAQAVuj3dCAAAAa8CPd0IAAECct5B3QgAAAAIKkXdCAADAZ1yRd0IAAIDNrpF3QgAAQDMBkndCAACAZPiSd0IAAEDKSpN3QgAAADCdk3dCAADAle+Td0IAAID7QZR3QgAAwCw5lXdCAACAkouVd0IAAED43ZV3QgAAAF4wlndCAADAw4KWd0IAAAD1eZd3QgAAwFrMl3dCAACAwB6Yd0IAAEAmcZh3QgAAAIzDmHdCAABAvbqZd0IAAAAjDZp3QgAAwIhfmndCAACA7rGad0IAAEBUBJt3QgAAQOtNnHdCAAAAUaCcd0IAAMC28px3QgAAgBxFnXdCAADATTyed0IAAICzjp53QgAAQBnhnndCAAAAfzOfd0IAAMDkhZ93QgAAABZ9oHdCAADAe8+gd0IAAIDhIaF3QgAAQEd0oXdCAAAArcahd0IAAEDevaJ3QgAAAEQQo3dCAADAqWKjd0IAAIAPtaN3QgAAQHUHpHdCAACApv6kd0IAAEAMUaV3QgAAAHKjpXdCAADA1/Wld0IAAIA9SKZ3QgAAgNSRp3dCAABAOuSnd0IAAACgNqh3QgAAwAWJqHdCAAAAN4Cpd0IAAMCc0ql3QgAAgAIlqndCAABAaHeqd0IAAADOyap3QgAAQP/Aq3dCAAAAZROsd0IAAMDKZax3QgAAgDC4rHdCAABAlgqtd0IAAIDHAa53QgAAQC1UrndCAAAAk6aud0IAAMD4+K53QgAAgF5Lr3dCAADAj0Kwd0IAAID1lLB3QgAAQFvnsHdCAAAAwTmxd0IAAMAmjLF3QgAAAFiDsndCAADAvdWyd0IAAIAjKLN3QgAAQIl6s3dCAAAA78yzd0IAAEAgxLR3QgAAAIYWtXdCAADA62i1d0IAAIBRu7V3QgAAQLcNtndCAACA6AS3d0IAAEBOV7d3QgAAALSpt3dCAADAGfy3d0IAAIB/Trh3QgAAwLBFuXdCAACAFpi5d0IAAEB86rl3QgAAAOI8undCAADAR4+6d0IAAMDe2Lt3QgAAgEQrvHdCAABAqn28d0IAAAAQ0Lx3QgAAQEHHvXdCAAAApxm+d0IAAMAMbL53QgAAgHK+vndCAABA2BC/d0IAAIAJCMB3QgAAQG9awHdCAAAA1azAd0IAAMA6/8B3QgAAgKBRwXdCAADA0UjCd0IAAIA3m8J3QgAAQJ3twndCAAAAA0DDd0IAAMBoksN3QgAAAJqJxHdCAADA/9vEd0IAAIBlLsV3QgAAQMuAxXdCAAAAMdPFd0IAAEBiysZ3QgAAAMgcx3dCAADALW/Hd0IAAICTwcd3QgAAQPkTyHdCAACAKgvJd0IAAECQXcl3QgAAAPavyXdCAADAWwLKd0IAAIDBVMp3QgAAwPJLy3dCAACAWJ7Ld0IAAEC+8Mt3QgAAACRDzHdCAADAiZXMd0IAAAC7jM13QgAAwCDfzXdCAACAhjHOd0IAAEDsg853QgAAAFLWzndCAABAg83Pd0IAAADpH9B3QgAAwE5y0HdCAACAtMTQd0IAAEAaF9F3QgAAgEsO0ndCAABAsWDSd0IAAAAXs9J3QgAAwHwF03dCAACA4lfTd0IAAMATT9R3QgAAgHmh1HdCAABA3/PUd0IAAMCqmNV3QgAAANyP1ndCAADAQeLWd0IAAICnNNd3QgAAQA2H13dCAAAAc9nXd0IAAECk0Nh3QgAAAAoj2XdCAADAb3XZd0IAAIDVx9l3QgAAQDsa2ndCAACAbBHbd0IAAEDSY9t3QgAAADi223dCAADAnQjcd0IAAIADW9x3QgAAwDRS3XdCAACAmqTdd0IAAEAA9913QgAAAGZJ3ndCAAAA/ZLfd0IAAMBi5d93QgAAgMg34HdCAABALorgd0IAAACU3OB3QgAAQMXT4XdCAAAAKybid0IAAMCQeOJ3QgAAgPbK4ndCAABAXB3jd0IAAICNFOR3QgAAQPNm5HdCAAAAWbnkd0IAAMC+C+V3QgAAgCRe5XdCAACAu6fmd0IAAEAh+uZ3QgAAAIdM53dCAADA7J7nd0IAAAAeluh3QgAAwIPo6HdCAACA6Trpd0IAAEBPjel3QgAAALXf6XdCAABA5tbqd0IAAABMKet3QgAAwLF763dCAACAF87rd0IAAEB9IOx3QgAAgK4X7XdCAABAFGrtd0IAAAB6vO13QgAAwN8O7ndCAACARWHud0IAAMB2WO93QgAAgNyq73dCAABAQv3vd0IAAACoT/B3QgAAwA2i8HdCAADApOvxd0IAAIAKPvJ3QgAAQHCQ8ndCAAAA1uLyd0IAAEAH2vN3QgAAAG0s9HdCAADA0n70d0IAAIA40fR3QgAAQJ4j9XdCAACAzxr2d0IAAEA1bfZ3QgAAAJu/9ndCAADAABL3d0IAAIBmZPd3QgAAwJdb+HdCAACA/a34d0IAAEBjAPl3QgAAAMlS+XdCAADALqX5d0IAAABgnPp3QgAAwMXu+ndCAACAK0H7d0IAAECRk/t3QgAAAPfl+3dCAABAKN38d0IAAACOL/13QgAAwPOB/XdCAACAWdT9d0IAAEC/Jv53QgAAgPAd/3dCAABAVnD/d0IAAAC8wv93QgAAwCEVAHhCAACAh2cAeEIAAMC4XgF4QgAAgB6xAXhCAABAhAMCeEIAAADqVQJ4QgAAAIGfA3hCAADA5vEDeEIAAIBMRAR4QgAAQLKWBHhCAAAAGOkEeEIAAEBJ4AV4QgAAAK8yBnhCAADAFIUGeEIAAIB61wZ4QgAAQOApB3hCAACAESEIeEIAAEB3cwh4QgAAAN3FCHhCAADAQhgJeEIAAICoagl4QgAAwNlhCnhCAACAP7QKeEIAAEClBgt4QgAAAAtZC3hCAADAcKsLeEIAAACiogx4QgAAwAf1DHhCAACAbUcNeEIAAEDTmQ14QgAAADnsDXhCAABAauMOeEIAAADQNQ94QgAAwDWID3hCAACAm9oPeEIAAEABLRB4QgAAQJh2EXhCAAAA/sgReEIAAMBjGxJ4QgAAgMltEnhCAADA+mQTeEIAAIBgtxN4QgAAQMYJFHhCAAAALFwUeEIAAMCRrhR4QgAAAMOlFXhCAADAKPgVeEIAAICOShZ4QgAAQPScFnhCAAAAWu8WeEIAAADxOBh4QgAAwFaLGHhCAACAvN0YeEIAAEAiMBl4QgAAgFMnGnhCAABAuXkaeEIAAAAfzBp4QgAAwIQeG3hCAACA6nAbeEIAAICBuhx4QgAAQOcMHXhCAAAATV8deEIAAMCysR14QgAAAOSoHnhCAADASfseeEIAAICvTR94QgAAQBWgH3hCAAAAe/IfeEIAAECs6SB4QgAAABI8IXhCAADAd44heEIAAIDd4CF4QgAAQEMzInhCAACAdCojeEIAAEDafCN4QgAAAEDPI3hCAADApSEkeEIAAIALdCR4QgAAwDxrJXhCAACAor0leEIAAEAIECZ4QgAAAG5iJnhCAADA07QmeEIAAAAFrCd4QgAAwGr+J3hCAACA0FAoeEIAAEA2oyh4QgAAAJz1KHhCAABAzewpeEIAAAAzPyp4QgAAwJiRKnhCAACA/uMqeEIAAEBkNit4QgAAgJUtLHhCAABA+38seEIAAABh0ix4QgAAwMYkLXhCAACALHcteEIAAMBdbi54QgAAgMPALnhCAABAKRMveEIAAACPZS94QgAAwPS3L3hCAADAiwExeEIAAIDxUzF4QgAAQFemMXhCAAAAvfgxeEIAAEDu7zJ4QgAAAFRCM3hCAADAuZQzeEIAAIAf5zN4QgAAQIU5NHhCAACAtjA1eEIAAEAcgzV4QgAAAILVNXhCAADA5yc2eEIAAIBNejZ4QgAAwH5xN3hCAACA5MM3eEIAAEBKFjh4QgAAALBoOHhCAADAFbs4eEIAAABHsjl4QgAAwKwEOnhCAACAElc6eEIAAEB4qTp4QgAAAN77OnhCAABAD/M7eEIAAAB1RTx4QgAAwNqXPHhCAACAQOo8eEIAAECmPD14QgAAgNczPnhCAABAPYY+eEIAAACj2D54QgAAwAgrP3hCAACAbn0/eEIAAMCfdEB4QgAAgAXHQHhCAABAaxlBeEI=\",\"dtype\":\"float64\",\"order\":\"little\",\"shape\":[1465]}},\"selected\":{\"id\":\"3252\"},\"selection_policy\":{\"id\":\"3273\"}},\"id\":\"3251\",\"type\":\"ColumnDataSource\"},{\"attributes\":{\"end\":503.18599090576174,\"reset_end\":503.18599090576174,\"reset_start\":197.4739974975586,\"start\":197.4739974975586,\"tags\":[[[\"Close\",\"Close\",null]]]},\"id\":\"3219\",\"type\":\"Range1d\"}],\"root_ids\":[\"3216\"]},\"title\":\"Bokeh Application\",\"version\":\"2.4.2\"}};\n",
       "    var render_items = [{\"docid\":\"2acee6dc-1285-4606-89f7-ba2cae248eec\",\"root_ids\":[\"3216\"],\"roots\":{\"3216\":\"d327bb1e-b103-4a3c-accf-cfd9d520c6ce\"}}];\n",
       "    root.Bokeh.embed.embed_items_notebook(docs_json, render_items);\n",
       "  }\n",
       "  if (root.Bokeh !== undefined && root.Bokeh.Panel !== undefined) {\n",
       "    embed_document(root);\n",
       "  } else {\n",
       "    var attempts = 0;\n",
       "    var timer = setInterval(function(root) {\n",
       "      if (root.Bokeh !== undefined && root.Bokeh.Panel !== undefined) {\n",
       "        clearInterval(timer);\n",
       "        embed_document(root);\n",
       "      } else if (document.readyState == \"complete\") {\n",
       "        attempts++;\n",
       "        if (attempts > 200) {\n",
       "          clearInterval(timer);\n",
       "          console.log(\"Bokeh: ERROR: Unable to run BokehJS code because BokehJS library is missing\");\n",
       "        }\n",
       "      }\n",
       "    }, 25, root)\n",
       "  }\n",
       "})(window);</script>"
      ],
      "text/plain": [
       ":Curve   [Date]   (Close)"
      ]
     },
     "execution_count": 66,
     "metadata": {
      "application/vnd.holoviews_exec.v0+json": {
       "id": "3216"
      }
     },
     "output_type": "execute_result"
    }
   ],
   "source": [
    "# Create a line plot of the Close values\n",
    "best_fit_line = futures_data_df.hvplot.line(\n",
    "    x = \"Date\",\n",
    "    y = \"Close\",\n",
    "    color = \"red\"\n",
    ")\n",
    "best_fit_line"
   ]
  },
  {
   "cell_type": "code",
   "execution_count": 68,
   "id": "ae941ee8-8586-4b1f-9cbd-75313553b7d7",
   "metadata": {},
   "outputs": [
    {
     "data": {},
     "metadata": {},
     "output_type": "display_data"
    },
    {
     "data": {
      "application/vnd.holoviews_exec.v0+json": "",
      "text/html": [
       "<div id='3628'>\n",
       "\n",
       "\n",
       "\n",
       "\n",
       "\n",
       "  <div class=\"bk-root\" id=\"0b6ade29-2074-48d9-bea6-7781cf95c621\" data-root-id=\"3628\"></div>\n",
       "</div>\n",
       "<script type=\"application/javascript\">(function(root) {\n",
       "  function embed_document(root) {\n",
       "    var docs_json = {\"ab5f48c0-87ff-466e-8071-db86397b9420\":{\"defs\":[{\"extends\":null,\"module\":null,\"name\":\"ReactiveHTML1\",\"overrides\":[],\"properties\":[]},{\"extends\":null,\"module\":null,\"name\":\"FlexBox1\",\"overrides\":[],\"properties\":[{\"default\":\"flex-start\",\"kind\":null,\"name\":\"align_content\"},{\"default\":\"flex-start\",\"kind\":null,\"name\":\"align_items\"},{\"default\":\"row\",\"kind\":null,\"name\":\"flex_direction\"},{\"default\":\"wrap\",\"kind\":null,\"name\":\"flex_wrap\"},{\"default\":\"flex-start\",\"kind\":null,\"name\":\"justify_content\"}]},{\"extends\":null,\"module\":null,\"name\":\"GridStack1\",\"overrides\":[],\"properties\":[{\"default\":\"warn\",\"kind\":null,\"name\":\"mode\"},{\"default\":null,\"kind\":null,\"name\":\"ncols\"},{\"default\":null,\"kind\":null,\"name\":\"nrows\"},{\"default\":true,\"kind\":null,\"name\":\"allow_resize\"},{\"default\":true,\"kind\":null,\"name\":\"allow_drag\"},{\"default\":[],\"kind\":null,\"name\":\"state\"}]},{\"extends\":null,\"module\":null,\"name\":\"click1\",\"overrides\":[],\"properties\":[{\"default\":\"\",\"kind\":null,\"name\":\"terminal_output\"},{\"default\":\"\",\"kind\":null,\"name\":\"debug_name\"},{\"default\":0,\"kind\":null,\"name\":\"clears\"}]},{\"extends\":null,\"module\":null,\"name\":\"TemplateActions1\",\"overrides\":[],\"properties\":[{\"default\":0,\"kind\":null,\"name\":\"open_modal\"},{\"default\":0,\"kind\":null,\"name\":\"close_modal\"}]},{\"extends\":null,\"module\":null,\"name\":\"MaterialTemplateActions1\",\"overrides\":[],\"properties\":[{\"default\":0,\"kind\":null,\"name\":\"open_modal\"},{\"default\":0,\"kind\":null,\"name\":\"close_modal\"}]}],\"roots\":{\"references\":[{\"attributes\":{\"source\":{\"id\":\"3663\"}},\"id\":\"3670\",\"type\":\"CDSView\"},{\"attributes\":{\"coordinates\":null,\"group\":null,\"text_color\":\"black\",\"text_font_size\":\"12pt\"},\"id\":\"3634\",\"type\":\"Title\"},{\"attributes\":{\"axis_label\":\"Predicted Close\",\"coordinates\":null,\"formatter\":{\"id\":\"3676\"},\"group\":null,\"major_label_policy\":{\"id\":\"3677\"},\"ticker\":{\"id\":\"3647\"}},\"id\":\"3646\",\"type\":\"LinearAxis\"},{\"attributes\":{},\"id\":\"3685\",\"type\":\"UnionRenderers\"},{\"attributes\":{\"axis_label\":\"Date\",\"coordinates\":null,\"formatter\":{\"id\":\"3673\"},\"group\":null,\"major_label_policy\":{\"id\":\"3674\"},\"ticker\":{\"id\":\"3643\"}},\"id\":\"3642\",\"type\":\"DatetimeAxis\"},{\"attributes\":{\"axis\":{\"id\":\"3646\"},\"coordinates\":null,\"dimension\":1,\"grid_line_color\":null,\"group\":null,\"ticker\":null},\"id\":\"3649\",\"type\":\"Grid\"},{\"attributes\":{\"num_minor_ticks\":5,\"tickers\":[{\"id\":\"3688\"},{\"id\":\"3689\"},{\"id\":\"3690\"},{\"id\":\"3691\"},{\"id\":\"3692\"},{\"id\":\"3693\"},{\"id\":\"3694\"},{\"id\":\"3695\"},{\"id\":\"3696\"},{\"id\":\"3697\"},{\"id\":\"3698\"},{\"id\":\"3699\"}]},\"id\":\"3643\",\"type\":\"DatetimeTicker\"},{\"attributes\":{},\"id\":\"3673\",\"type\":\"DatetimeTickFormatter\"},{\"attributes\":{},\"id\":\"3647\",\"type\":\"BasicTicker\"},{\"attributes\":{\"line_alpha\":0.1,\"line_color\":\"blue\",\"line_width\":2,\"x\":{\"field\":\"Date\"},\"y\":{\"field\":\"Predicted Close\"}},\"id\":\"3667\",\"type\":\"Line\"},{\"attributes\":{},\"id\":\"3652\",\"type\":\"WheelZoomTool\"},{\"attributes\":{\"data\":{\"Date\":{\"__ndarray__\":\"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\",\"dtype\":\"float64\",\"order\":\"little\",\"shape\":[1465]},\"Predicted Close\":{\"__ndarray__\":\"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\",\"dtype\":\"float64\",\"order\":\"little\",\"shape\":[1465]},\"Predicted_Close\":{\"__ndarray__\":\"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\",\"dtype\":\"float64\",\"order\":\"little\",\"shape\":[1465]}},\"selected\":{\"id\":\"3664\"},\"selection_policy\":{\"id\":\"3685\"}},\"id\":\"3663\",\"type\":\"ColumnDataSource\"},{\"attributes\":{},\"id\":\"3676\",\"type\":\"BasicTickFormatter\"},{\"attributes\":{},\"id\":\"3664\",\"type\":\"Selection\"},{\"attributes\":{},\"id\":\"3650\",\"type\":\"SaveTool\"},{\"attributes\":{\"overlay\":{\"id\":\"3655\"}},\"id\":\"3653\",\"type\":\"BoxZoomTool\"},{\"attributes\":{\"margin\":[5,5,5,5],\"name\":\"HSpacer04124\",\"sizing_mode\":\"stretch_width\"},\"id\":\"3629\",\"type\":\"Spacer\"},{\"attributes\":{},\"id\":\"3654\",\"type\":\"ResetTool\"},{\"attributes\":{\"children\":[{\"id\":\"3629\"},{\"id\":\"3633\"},{\"id\":\"3722\"}],\"margin\":[0,0,0,0],\"name\":\"Row04120\",\"tags\":[\"embedded\"]},\"id\":\"3628\",\"type\":\"Row\"},{\"attributes\":{\"margin\":[5,5,5,5],\"name\":\"HSpacer04125\",\"sizing_mode\":\"stretch_width\"},\"id\":\"3722\",\"type\":\"Spacer\"},{\"attributes\":{\"bottom_units\":\"screen\",\"coordinates\":null,\"fill_alpha\":0.5,\"fill_color\":\"lightgrey\",\"group\":null,\"left_units\":\"screen\",\"level\":\"overlay\",\"line_alpha\":1.0,\"line_color\":\"black\",\"line_dash\":[4,4],\"line_width\":2,\"right_units\":\"screen\",\"syncable\":false,\"top_units\":\"screen\"},\"id\":\"3655\",\"type\":\"BoxAnnotation\"},{\"attributes\":{\"tools\":[{\"id\":\"3632\"},{\"id\":\"3650\"},{\"id\":\"3651\"},{\"id\":\"3652\"},{\"id\":\"3653\"},{\"id\":\"3654\"}]},\"id\":\"3656\",\"type\":\"Toolbar\"},{\"attributes\":{\"mantissas\":[1,2,5],\"max_interval\":500.0,\"num_minor_ticks\":0},\"id\":\"3688\",\"type\":\"AdaptiveTicker\"},{\"attributes\":{},\"id\":\"3674\",\"type\":\"AllLabels\"},{\"attributes\":{\"base\":60,\"mantissas\":[1,2,5,10,15,20,30],\"max_interval\":1800000.0,\"min_interval\":1000.0,\"num_minor_ticks\":0},\"id\":\"3689\",\"type\":\"AdaptiveTicker\"},{\"attributes\":{\"base\":24,\"mantissas\":[1,2,4,6,8,12],\"max_interval\":43200000.0,\"min_interval\":3600000.0,\"num_minor_ticks\":0},\"id\":\"3690\",\"type\":\"AdaptiveTicker\"},{\"attributes\":{},\"id\":\"3699\",\"type\":\"YearsTicker\"},{\"attributes\":{\"months\":[0,1,2,3,4,5,6,7,8,9,10,11]},\"id\":\"3695\",\"type\":\"MonthsTicker\"},{\"attributes\":{},\"id\":\"3677\",\"type\":\"AllLabels\"},{\"attributes\":{\"callback\":null,\"formatters\":{\"@{Date}\":\"datetime\"},\"renderers\":[{\"id\":\"3669\"}],\"tags\":[\"hv_created\"],\"tooltips\":[[\"Date\",\"@{Date}{%F %T}\"],[\"Predicted Close\",\"@{Predicted_Close}\"]]},\"id\":\"3632\",\"type\":\"HoverTool\"},{\"attributes\":{\"days\":[1,15]},\"id\":\"3694\",\"type\":\"DaysTicker\"},{\"attributes\":{\"days\":[1,2,3,4,5,6,7,8,9,10,11,12,13,14,15,16,17,18,19,20,21,22,23,24,25,26,27,28,29,30,31]},\"id\":\"3691\",\"type\":\"DaysTicker\"},{\"attributes\":{\"days\":[1,4,7,10,13,16,19,22,25,28]},\"id\":\"3692\",\"type\":\"DaysTicker\"},{\"attributes\":{\"days\":[1,8,15,22]},\"id\":\"3693\",\"type\":\"DaysTicker\"},{\"attributes\":{\"months\":[0,6]},\"id\":\"3698\",\"type\":\"MonthsTicker\"},{\"attributes\":{\"line_color\":\"blue\",\"line_width\":2,\"x\":{\"field\":\"Date\"},\"y\":{\"field\":\"Predicted Close\"}},\"id\":\"3671\",\"type\":\"Line\"},{\"attributes\":{\"months\":[0,2,4,6,8,10]},\"id\":\"3696\",\"type\":\"MonthsTicker\"},{\"attributes\":{\"end\":1666742400000.0,\"reset_end\":1666742400000.0,\"reset_start\":1483401600000.0,\"start\":1483401600000.0,\"tags\":[[[\"Date\",\"Date\",null]]]},\"id\":\"3630\",\"type\":\"Range1d\"},{\"attributes\":{\"below\":[{\"id\":\"3642\"}],\"center\":[{\"id\":\"3645\"},{\"id\":\"3649\"}],\"height\":300,\"left\":[{\"id\":\"3646\"}],\"margin\":[5,5,5,5],\"min_border_bottom\":10,\"min_border_left\":10,\"min_border_right\":10,\"min_border_top\":10,\"renderers\":[{\"id\":\"3669\"}],\"sizing_mode\":\"fixed\",\"title\":{\"id\":\"3634\"},\"toolbar\":{\"id\":\"3656\"},\"width\":700,\"x_range\":{\"id\":\"3630\"},\"x_scale\":{\"id\":\"3638\"},\"y_range\":{\"id\":\"3631\"},\"y_scale\":{\"id\":\"3640\"}},\"id\":\"3633\",\"subtype\":\"Figure\",\"type\":\"Plot\"},{\"attributes\":{\"coordinates\":null,\"data_source\":{\"id\":\"3663\"},\"glyph\":{\"id\":\"3666\"},\"group\":null,\"hover_glyph\":null,\"muted_glyph\":{\"id\":\"3668\"},\"nonselection_glyph\":{\"id\":\"3667\"},\"selection_glyph\":{\"id\":\"3671\"},\"view\":{\"id\":\"3670\"}},\"id\":\"3669\",\"type\":\"GlyphRenderer\"},{\"attributes\":{\"months\":[0,4,8]},\"id\":\"3697\",\"type\":\"MonthsTicker\"},{\"attributes\":{},\"id\":\"3638\",\"type\":\"LinearScale\"},{\"attributes\":{\"axis\":{\"id\":\"3642\"},\"coordinates\":null,\"grid_line_color\":null,\"group\":null,\"ticker\":null},\"id\":\"3645\",\"type\":\"Grid\"},{\"attributes\":{\"line_color\":\"blue\",\"line_width\":2,\"x\":{\"field\":\"Date\"},\"y\":{\"field\":\"Predicted Close\"}},\"id\":\"3666\",\"type\":\"Line\"},{\"attributes\":{},\"id\":\"3640\",\"type\":\"LinearScale\"},{\"attributes\":{\"line_alpha\":0.2,\"line_color\":\"blue\",\"line_width\":2,\"x\":{\"field\":\"Date\"},\"y\":{\"field\":\"Predicted Close\"}},\"id\":\"3668\",\"type\":\"Line\"},{\"attributes\":{\"end\":503.916794209459,\"reset_end\":503.916794209459,\"reset_start\":198.42788013443214,\"start\":198.42788013443214,\"tags\":[[[\"Predicted Close\",\"Predicted Close\",null]]]},\"id\":\"3631\",\"type\":\"Range1d\"},{\"attributes\":{},\"id\":\"3651\",\"type\":\"PanTool\"}],\"root_ids\":[\"3628\"]},\"title\":\"Bokeh Application\",\"version\":\"2.4.2\"}};\n",
       "    var render_items = [{\"docid\":\"ab5f48c0-87ff-466e-8071-db86397b9420\",\"root_ids\":[\"3628\"],\"roots\":{\"3628\":\"0b6ade29-2074-48d9-bea6-7781cf95c621\"}}];\n",
       "    root.Bokeh.embed.embed_items_notebook(docs_json, render_items);\n",
       "  }\n",
       "  if (root.Bokeh !== undefined && root.Bokeh.Panel !== undefined) {\n",
       "    embed_document(root);\n",
       "  } else {\n",
       "    var attempts = 0;\n",
       "    var timer = setInterval(function(root) {\n",
       "      if (root.Bokeh !== undefined && root.Bokeh.Panel !== undefined) {\n",
       "        clearInterval(timer);\n",
       "        embed_document(root);\n",
       "      } else if (document.readyState == \"complete\") {\n",
       "        attempts++;\n",
       "        if (attempts > 200) {\n",
       "          clearInterval(timer);\n",
       "          console.log(\"Bokeh: ERROR: Unable to run BokehJS code because BokehJS library is missing\");\n",
       "        }\n",
       "      }\n",
       "    }, 25, root)\n",
       "  }\n",
       "})(window);</script>"
      ],
      "text/plain": [
       ":Curve   [Date]   (Predicted Close)"
      ]
     },
     "execution_count": 68,
     "metadata": {
      "application/vnd.holoviews_exec.v0+json": {
       "id": "3628"
      }
     },
     "output_type": "execute_result"
    }
   ],
   "source": [
    "# Create a line plot of the predicted Close values\n",
    "best_fit_line2= futures_data_df.hvplot.line(\n",
    "    x = \"Date\",\n",
    "    y = \"Predicted Close\",\n",
    "    color = \"blue\"\n",
    ")\n",
    "best_fit_line2\n"
   ]
  },
  {
   "cell_type": "code",
   "execution_count": 69,
   "id": "c76a0dba-fd87-4336-b238-b02c69c0f66e",
   "metadata": {},
   "outputs": [
    {
     "data": {},
     "metadata": {},
     "output_type": "display_data"
    },
    {
     "data": {
      "application/vnd.holoviews_exec.v0+json": "",
      "text/html": [
       "<div id='3834'>\n",
       "\n",
       "\n",
       "\n",
       "\n",
       "\n",
       "  <div class=\"bk-root\" id=\"c3c50b7c-9be1-4de8-9ec8-7ab9414e1278\" data-root-id=\"3834\"></div>\n",
       "</div>\n",
       "<script type=\"application/javascript\">(function(root) {\n",
       "  function embed_document(root) {\n",
       "    var docs_json = {\"a7ed319a-f136-466c-be1e-1ad68f92117c\":{\"defs\":[{\"extends\":null,\"module\":null,\"name\":\"ReactiveHTML1\",\"overrides\":[],\"properties\":[]},{\"extends\":null,\"module\":null,\"name\":\"FlexBox1\",\"overrides\":[],\"properties\":[{\"default\":\"flex-start\",\"kind\":null,\"name\":\"align_content\"},{\"default\":\"flex-start\",\"kind\":null,\"name\":\"align_items\"},{\"default\":\"row\",\"kind\":null,\"name\":\"flex_direction\"},{\"default\":\"wrap\",\"kind\":null,\"name\":\"flex_wrap\"},{\"default\":\"flex-start\",\"kind\":null,\"name\":\"justify_content\"}]},{\"extends\":null,\"module\":null,\"name\":\"GridStack1\",\"overrides\":[],\"properties\":[{\"default\":\"warn\",\"kind\":null,\"name\":\"mode\"},{\"default\":null,\"kind\":null,\"name\":\"ncols\"},{\"default\":null,\"kind\":null,\"name\":\"nrows\"},{\"default\":true,\"kind\":null,\"name\":\"allow_resize\"},{\"default\":true,\"kind\":null,\"name\":\"allow_drag\"},{\"default\":[],\"kind\":null,\"name\":\"state\"}]},{\"extends\":null,\"module\":null,\"name\":\"click1\",\"overrides\":[],\"properties\":[{\"default\":\"\",\"kind\":null,\"name\":\"terminal_output\"},{\"default\":\"\",\"kind\":null,\"name\":\"debug_name\"},{\"default\":0,\"kind\":null,\"name\":\"clears\"}]},{\"extends\":null,\"module\":null,\"name\":\"TemplateActions1\",\"overrides\":[],\"properties\":[{\"default\":0,\"kind\":null,\"name\":\"open_modal\"},{\"default\":0,\"kind\":null,\"name\":\"close_modal\"}]},{\"extends\":null,\"module\":null,\"name\":\"MaterialTemplateActions1\",\"overrides\":[],\"properties\":[{\"default\":0,\"kind\":null,\"name\":\"open_modal\"},{\"default\":0,\"kind\":null,\"name\":\"close_modal\"}]}],\"roots\":{\"references\":[{\"attributes\":{\"days\":[1,2,3,4,5,6,7,8,9,10,11,12,13,14,15,16,17,18,19,20,21,22,23,24,25,26,27,28,29,30,31]},\"id\":\"3910\",\"type\":\"DaysTicker\"},{\"attributes\":{},\"id\":\"3887\",\"type\":\"Selection\"},{\"attributes\":{},\"id\":\"3918\",\"type\":\"YearsTicker\"},{\"attributes\":{\"source\":{\"id\":\"3877\"}},\"id\":\"3884\",\"type\":\"CDSView\"},{\"attributes\":{},\"id\":\"3878\",\"type\":\"Selection\"},{\"attributes\":{\"days\":[1,4,7,10,13,16,19,22,25,28]},\"id\":\"3911\",\"type\":\"DaysTicker\"},{\"attributes\":{\"base\":24,\"mantissas\":[1,2,4,6,8,12],\"max_interval\":43200000.0,\"min_interval\":3600000.0,\"num_minor_ticks\":0},\"id\":\"3909\",\"type\":\"AdaptiveTicker\"},{\"attributes\":{\"days\":[1,15]},\"id\":\"3913\",\"type\":\"DaysTicker\"},{\"attributes\":{\"months\":[0,1,2,3,4,5,6,7,8,9,10,11]},\"id\":\"3914\",\"type\":\"MonthsTicker\"},{\"attributes\":{\"base\":60,\"mantissas\":[1,2,5,10,15,20,30],\"max_interval\":1800000.0,\"min_interval\":1000.0,\"num_minor_ticks\":0},\"id\":\"3908\",\"type\":\"AdaptiveTicker\"},{\"attributes\":{\"axis\":{\"id\":\"3853\"},\"coordinates\":null,\"dimension\":1,\"grid_line_color\":null,\"group\":null,\"ticker\":null},\"id\":\"3856\",\"type\":\"Grid\"},{\"attributes\":{\"days\":[1,8,15,22]},\"id\":\"3912\",\"type\":\"DaysTicker\"},{\"attributes\":{\"line_alpha\":0.2,\"line_color\":\"blue\",\"line_width\":2,\"x\":{\"field\":\"Date\"},\"y\":{\"field\":\"Predicted Close\"}},\"id\":\"3891\",\"type\":\"Line\"},{\"attributes\":{\"children\":[{\"id\":\"3835\"},{\"id\":\"3840\"},{\"id\":\"4111\"}],\"margin\":[0,0,0,0],\"name\":\"Row04227\",\"tags\":[\"embedded\"]},\"id\":\"3834\",\"type\":\"Row\"},{\"attributes\":{\"line_alpha\":0.1,\"line_color\":\"blue\",\"line_width\":2,\"x\":{\"field\":\"Date\"},\"y\":{\"field\":\"Predicted Close\"}},\"id\":\"3890\",\"type\":\"Line\"},{\"attributes\":{\"months\":[0,2,4,6,8,10]},\"id\":\"3915\",\"type\":\"MonthsTicker\"},{\"attributes\":{\"data\":{\"Date\":{\"__ndarray__\":\"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\",\"dtype\":\"float64\",\"order\":\"little\",\"shape\":[1465]},\"Predicted Close\":{\"__ndarray__\":\"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\",\"dtype\":\"float64\",\"order\":\"little\",\"shape\":[1465]},\"Predicted_Close\":{\"__ndarray__\":\"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\",\"dtype\":\"float64\",\"order\":\"little\",\"shape\":[1465]}},\"selected\":{\"id\":\"3887\"},\"selection_policy\":{\"id\":\"3904\"}},\"id\":\"3886\",\"type\":\"ColumnDataSource\"},{\"attributes\":{\"months\":[0,6]},\"id\":\"3917\",\"type\":\"MonthsTicker\"},{\"attributes\":{\"mantissas\":[1,2,5],\"max_interval\":500.0,\"num_minor_ticks\":0},\"id\":\"3907\",\"type\":\"AdaptiveTicker\"},{\"attributes\":{\"data\":{\"Close\":{\"__ndarray__\":\"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\",\"dtype\":\"float64\",\"order\":\"little\",\"shape\":[1465]},\"Date\":{\"__ndarray__\":\"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\",\"dtype\":\"float64\",\"order\":\"little\",\"shape\":[1465]}},\"selected\":{\"id\":\"3878\"},\"selection_policy\":{\"id\":\"3902\"}},\"id\":\"3877\",\"type\":\"ColumnDataSource\"},{\"attributes\":{\"line_color\":\"red\",\"line_width\":2,\"x\":{\"field\":\"Date\"},\"y\":{\"field\":\"Close\"}},\"id\":\"3885\",\"type\":\"Line\"},{\"attributes\":{\"months\":[0,4,8]},\"id\":\"3916\",\"type\":\"MonthsTicker\"},{\"attributes\":{\"axis\":{\"id\":\"3849\"},\"coordinates\":null,\"grid_line_color\":null,\"group\":null,\"ticker\":null},\"id\":\"3852\",\"type\":\"Grid\"},{\"attributes\":{},\"id\":\"3873\",\"type\":\"AllLabels\"},{\"attributes\":{\"coordinates\":null,\"data_source\":{\"id\":\"3877\"},\"glyph\":{\"id\":\"3880\"},\"group\":null,\"hover_glyph\":null,\"muted_glyph\":{\"id\":\"3882\"},\"nonselection_glyph\":{\"id\":\"3881\"},\"selection_glyph\":{\"id\":\"3885\"},\"view\":{\"id\":\"3884\"}},\"id\":\"3883\",\"type\":\"GlyphRenderer\"},{\"attributes\":{},\"id\":\"3845\",\"type\":\"LinearScale\"},{\"attributes\":{},\"id\":\"3872\",\"type\":\"DatetimeTickFormatter\"},{\"attributes\":{\"below\":[{\"id\":\"3849\"}],\"center\":[{\"id\":\"3852\"},{\"id\":\"3856\"}],\"height\":300,\"left\":[{\"id\":\"3853\"}],\"margin\":[5,5,5,5],\"min_border_bottom\":10,\"min_border_left\":10,\"min_border_right\":10,\"min_border_top\":10,\"renderers\":[{\"id\":\"3883\"},{\"id\":\"3892\"}],\"sizing_mode\":\"fixed\",\"title\":{\"id\":\"3841\"},\"toolbar\":{\"id\":\"3863\"},\"width\":700,\"x_range\":{\"id\":\"3836\"},\"x_scale\":{\"id\":\"3845\"},\"y_range\":{\"id\":\"3837\"},\"y_scale\":{\"id\":\"3847\"}},\"id\":\"3840\",\"subtype\":\"Figure\",\"type\":\"Plot\"},{\"attributes\":{\"end\":1666742400000.0,\"reset_end\":1666742400000.0,\"reset_start\":1483401600000.0,\"start\":1483401600000.0,\"tags\":[[[\"Date\",\"Date\",null]]]},\"id\":\"3836\",\"type\":\"Range1d\"},{\"attributes\":{\"line_color\":\"blue\",\"line_width\":2,\"x\":{\"field\":\"Date\"},\"y\":{\"field\":\"Predicted Close\"}},\"id\":\"3894\",\"type\":\"Line\"},{\"attributes\":{\"end\":504.0103234787032,\"reset_end\":504.0103234787032,\"reset_start\":197.39905817274573,\"start\":197.39905817274573,\"tags\":[[[\"Close\",\"Close\",null]]]},\"id\":\"3837\",\"type\":\"Range1d\"},{\"attributes\":{\"source\":{\"id\":\"3886\"}},\"id\":\"3893\",\"type\":\"CDSView\"},{\"attributes\":{},\"id\":\"3847\",\"type\":\"LinearScale\"},{\"attributes\":{\"axis_label\":\"Date\",\"coordinates\":null,\"formatter\":{\"id\":\"3872\"},\"group\":null,\"major_label_policy\":{\"id\":\"3873\"},\"ticker\":{\"id\":\"3850\"}},\"id\":\"3849\",\"type\":\"DatetimeAxis\"},{\"attributes\":{\"line_alpha\":0.1,\"line_color\":\"red\",\"line_width\":2,\"x\":{\"field\":\"Date\"},\"y\":{\"field\":\"Close\"}},\"id\":\"3881\",\"type\":\"Line\"},{\"attributes\":{\"coordinates\":null,\"group\":null,\"text_color\":\"black\",\"text_font_size\":\"12pt\"},\"id\":\"3841\",\"type\":\"Title\"},{\"attributes\":{},\"id\":\"3904\",\"type\":\"UnionRenderers\"},{\"attributes\":{\"num_minor_ticks\":5,\"tickers\":[{\"id\":\"3907\"},{\"id\":\"3908\"},{\"id\":\"3909\"},{\"id\":\"3910\"},{\"id\":\"3911\"},{\"id\":\"3912\"},{\"id\":\"3913\"},{\"id\":\"3914\"},{\"id\":\"3915\"},{\"id\":\"3916\"},{\"id\":\"3917\"},{\"id\":\"3918\"}]},\"id\":\"3850\",\"type\":\"DatetimeTicker\"},{\"attributes\":{},\"id\":\"3876\",\"type\":\"AllLabels\"},{\"attributes\":{},\"id\":\"3858\",\"type\":\"PanTool\"},{\"attributes\":{},\"id\":\"3875\",\"type\":\"BasicTickFormatter\"},{\"attributes\":{\"coordinates\":null,\"data_source\":{\"id\":\"3886\"},\"glyph\":{\"id\":\"3889\"},\"group\":null,\"hover_glyph\":null,\"muted_glyph\":{\"id\":\"3891\"},\"nonselection_glyph\":{\"id\":\"3890\"},\"selection_glyph\":{\"id\":\"3894\"},\"view\":{\"id\":\"3893\"}},\"id\":\"3892\",\"type\":\"GlyphRenderer\"},{\"attributes\":{},\"id\":\"3859\",\"type\":\"WheelZoomTool\"},{\"attributes\":{\"line_color\":\"blue\",\"line_width\":2,\"x\":{\"field\":\"Date\"},\"y\":{\"field\":\"Predicted Close\"}},\"id\":\"3889\",\"type\":\"Line\"},{\"attributes\":{\"axis_label\":\"Close\",\"coordinates\":null,\"formatter\":{\"id\":\"3875\"},\"group\":null,\"major_label_policy\":{\"id\":\"3876\"},\"ticker\":{\"id\":\"3854\"}},\"id\":\"3853\",\"type\":\"LinearAxis\"},{\"attributes\":{\"margin\":[5,5,5,5],\"name\":\"HSpacer04232\",\"sizing_mode\":\"stretch_width\"},\"id\":\"4111\",\"type\":\"Spacer\"},{\"attributes\":{},\"id\":\"3854\",\"type\":\"BasicTicker\"},{\"attributes\":{\"line_color\":\"red\",\"line_width\":2,\"x\":{\"field\":\"Date\"},\"y\":{\"field\":\"Close\"}},\"id\":\"3880\",\"type\":\"Line\"},{\"attributes\":{\"callback\":null,\"formatters\":{\"@{Date}\":\"datetime\"},\"renderers\":[{\"id\":\"3883\"}],\"tags\":[\"hv_created\"],\"tooltips\":[[\"Date\",\"@{Date}{%F %T}\"],[\"Close\",\"@{Close}\"]]},\"id\":\"3838\",\"type\":\"HoverTool\"},{\"attributes\":{},\"id\":\"3857\",\"type\":\"SaveTool\"},{\"attributes\":{\"line_alpha\":0.2,\"line_color\":\"red\",\"line_width\":2,\"x\":{\"field\":\"Date\"},\"y\":{\"field\":\"Close\"}},\"id\":\"3882\",\"type\":\"Line\"},{\"attributes\":{\"overlay\":{\"id\":\"3862\"}},\"id\":\"3860\",\"type\":\"BoxZoomTool\"},{\"attributes\":{\"callback\":null,\"formatters\":{\"@{Date}\":\"datetime\"},\"renderers\":[{\"id\":\"3892\"}],\"tags\":[\"hv_created\"],\"tooltips\":[[\"Date\",\"@{Date}{%F %T}\"],[\"Predicted Close\",\"@{Predicted_Close}\"]]},\"id\":\"3839\",\"type\":\"HoverTool\"},{\"attributes\":{},\"id\":\"3861\",\"type\":\"ResetTool\"},{\"attributes\":{\"bottom_units\":\"screen\",\"coordinates\":null,\"fill_alpha\":0.5,\"fill_color\":\"lightgrey\",\"group\":null,\"left_units\":\"screen\",\"level\":\"overlay\",\"line_alpha\":1.0,\"line_color\":\"black\",\"line_dash\":[4,4],\"line_width\":2,\"right_units\":\"screen\",\"syncable\":false,\"top_units\":\"screen\"},\"id\":\"3862\",\"type\":\"BoxAnnotation\"},{\"attributes\":{},\"id\":\"3902\",\"type\":\"UnionRenderers\"},{\"attributes\":{\"margin\":[5,5,5,5],\"name\":\"HSpacer04231\",\"sizing_mode\":\"stretch_width\"},\"id\":\"3835\",\"type\":\"Spacer\"},{\"attributes\":{\"tools\":[{\"id\":\"3838\"},{\"id\":\"3839\"},{\"id\":\"3857\"},{\"id\":\"3858\"},{\"id\":\"3859\"},{\"id\":\"3860\"},{\"id\":\"3861\"}]},\"id\":\"3863\",\"type\":\"Toolbar\"}],\"root_ids\":[\"3834\"]},\"title\":\"Bokeh Application\",\"version\":\"2.4.2\"}};\n",
       "    var render_items = [{\"docid\":\"a7ed319a-f136-466c-be1e-1ad68f92117c\",\"root_ids\":[\"3834\"],\"roots\":{\"3834\":\"c3c50b7c-9be1-4de8-9ec8-7ab9414e1278\"}}];\n",
       "    root.Bokeh.embed.embed_items_notebook(docs_json, render_items);\n",
       "  }\n",
       "  if (root.Bokeh !== undefined && root.Bokeh.Panel !== undefined) {\n",
       "    embed_document(root);\n",
       "  } else {\n",
       "    var attempts = 0;\n",
       "    var timer = setInterval(function(root) {\n",
       "      if (root.Bokeh !== undefined && root.Bokeh.Panel !== undefined) {\n",
       "        clearInterval(timer);\n",
       "        embed_document(root);\n",
       "      } else if (document.readyState == \"complete\") {\n",
       "        attempts++;\n",
       "        if (attempts > 200) {\n",
       "          clearInterval(timer);\n",
       "          console.log(\"Bokeh: ERROR: Unable to run BokehJS code because BokehJS library is missing\");\n",
       "        }\n",
       "      }\n",
       "    }, 25, root)\n",
       "  }\n",
       "})(window);</script>"
      ],
      "text/plain": [
       ":Overlay\n",
       "   .Curve.I  :Curve   [Date]   (Close)\n",
       "   .Curve.II :Curve   [Date]   (Predicted Close)"
      ]
     },
     "execution_count": 69,
     "metadata": {
      "application/vnd.holoviews_exec.v0+json": {
       "id": "3834"
      }
     },
     "output_type": "execute_result"
    }
   ],
   "source": [
    "best_fit_line * best_fit_line2"
   ]
  },
  {
   "cell_type": "code",
   "execution_count": 70,
   "id": "ae2c9e2a-e99a-4e29-b5fd-8b853f65820b",
   "metadata": {},
   "outputs": [],
   "source": [
    "# Import relevant metrics - score, r2, mse, rmse, std - from Scikit-learn\n",
    "from sklearn.metrics import mean_squared_error, r2_score"
   ]
  },
  {
   "cell_type": "code",
   "execution_count": 71,
   "id": "761ff739-d8cd-4475-a66a-d93ad92ec6a3",
   "metadata": {},
   "outputs": [],
   "source": [
    "# Compute the metrics for the linear regression model\n",
    "score = model.score(X, y, sample_weight=None)\n",
    "r2 = r2_score(y, predicted_y_values)\n",
    "mse = mean_squared_error(y, predicted_y_values)\n",
    "rmse = np.sqrt(mse)\n",
    "std = np.std(y)"
   ]
  },
  {
   "cell_type": "code",
   "execution_count": 72,
   "id": "e192f54c-4577-4e50-8676-1d0eb1da1c59",
   "metadata": {},
   "outputs": [
    {
     "name": "stdout",
     "output_type": "stream",
     "text": [
      "The score is 0.9998640469198072.\n",
      "The r2 is 0.9998640469198072.\n",
      "The mean squared error is 0.6961032105182509.\n",
      "The root mean squared error is 0.8343279993613129.\n",
      "The standard deviation is 71.55538003474071.\n"
     ]
    }
   ],
   "source": [
    "# Print relevant metrics.\n",
    "print(f\"The score is {score}.\")\n",
    "print(f\"The r2 is {r2}.\")\n",
    "print(f\"The mean squared error is {mse}.\")\n",
    "print(f\"The root mean squared error is {rmse}.\")\n",
    "print(f\"The standard deviation is {std}.\")"
   ]
  },
  {
   "cell_type": "code",
   "execution_count": null,
   "id": "bdfd273d-91c7-4850-bc64-f3899cabfc26",
   "metadata": {},
   "outputs": [],
   "source": []
  }
 ],
 "metadata": {
  "kernelspec": {
   "display_name": "Python 3 (ipykernel)",
   "language": "python",
   "name": "python3"
  },
  "language_info": {
   "codemirror_mode": {
    "name": "ipython",
    "version": 3
   },
   "file_extension": ".py",
   "mimetype": "text/x-python",
   "name": "python",
   "nbconvert_exporter": "python",
   "pygments_lexer": "ipython3",
   "version": "3.9.12"
  }
 },
 "nbformat": 4,
 "nbformat_minor": 5
}
